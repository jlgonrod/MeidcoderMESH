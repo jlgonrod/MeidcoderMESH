{
 "cells": [
  {
   "cell_type": "markdown",
   "metadata": {},
   "source": [
    "<div style=\"display: flex; justify-content: space-between; align-items: center;\">\n",
    "    <div style=\"width: 20%; text-align: left; margin-left: 10px;\">\n",
    "        <img src=\"https://encrypted-tbn0.gstatic.com/images?q=tbn:ANd9GcRyUtYn-FHY0YTZMTs9yRu8I17EMEVCa_zXow&s\" alt=\"Web Fundación Progreso y Salud\" style=\"width: 100%;\"/>\n",
    "    </div>\n",
    "    <div style=\"width: 60%; margin-right: 70px;\">\n",
    "        <p style=\"text-align: right; font-weight: bold; font-size: 2em; margin-top: 30px;\">\n",
    "            Descriptive analysis\n",
    "        </p>\n",
    "        <p style=\"text-align: right; color: #666\">\n",
    "            Project: MedicoderMESH\n",
    "        </p>\n",
    "        <p style=\"text-align: right; color: #666\">\n",
    "            Juan Luis González Rodríguez\n",
    "        </p>\n",
    "    </div>\n",
    "</div>"
   ]
  },
  {
   "cell_type": "markdown",
   "metadata": {
    "id": "-4Idq1hGsUPT"
   },
   "source": [
    "Exploratory MESH Corpus analysis"
   ]
  },
  {
   "cell_type": "code",
   "execution_count": 25,
   "metadata": {
    "id": "jTKR0LGvsMFn"
   },
   "outputs": [],
   "source": [
    "import pandas as pd\n",
    "import numpy as np\n",
    "import matplotlib.pyplot as plt\n",
    "import random\n",
    "import os\n",
    "\n",
    "from transformers import RobertaTokenizer"
   ]
  },
  {
   "cell_type": "code",
   "execution_count": 26,
   "metadata": {
    "id": "oQfe_A8V0JRk"
   },
   "outputs": [],
   "source": [
    "plt.style.use('seaborn-v0_8-whitegrid')"
   ]
  },
  {
   "cell_type": "code",
   "execution_count": 27,
   "metadata": {
    "colab": {
     "base_uri": "https://localhost:8080/",
     "height": 200
    },
    "id": "yOhFRBUwsWZB",
    "outputId": "0c234999-f91f-480f-e277-7af6c8de1dd9"
   },
   "outputs": [],
   "source": [
    "df =  pd.read_csv('../data/projects_pubmed.csv', quotechar='\"', skipinitialspace=True)"
   ]
  },
  {
   "cell_type": "code",
   "execution_count": 28,
   "metadata": {
    "id": "pmjKj5ifaCaa"
   },
   "outputs": [],
   "source": [
    "row1 = df.iloc[0]"
   ]
  },
  {
   "cell_type": "code",
   "execution_count": 29,
   "metadata": {
    "id": "mQ-KVKgPaHLS"
   },
   "outputs": [
    {
     "name": "stdout",
     "output_type": "stream",
     "text": [
      "PMID: 27041066\n",
      "MESH_MAJOR_TOPIC: Abdomen, Acute\n",
      "TITLE: Urgencias abdominales en pediatría\n",
      "ABSTRACT: La sintomatología abdominal es uno de los motivos de consulta más frecuente en la urgencia pediátrica, siendo el dolor abdominal el síntoma más referido. Habitualmente, para el diagnóstico es suficiente con una anamnesis y exploración física precisas. Para el radiólogo es útil conocer cuáles son las patologías abdominales más frecuentes por franjas de edad, lo cual permite acotar el diagnóstico diferencial. Cuando esté indicado realizar alguna prueba de imagen, la ecografía es la técnica inicial en la mayoría de los casos; permite realizar el diagnóstico o añadir información relevante, con las ventajas conocidas de esta técnica. La radiografía simple hoy en día queda reservada cuando existe sospecha de perforación, obstrucción intestinal o ingesta de cuerpo extraño. Conviene recordar, que el dolor abdominal puede ser secundario a una neumonía basal. La TC queda reservada para indicaciones concretas y en casos individualizados. Por ejemplo, en pacientes con alta sospecha clínica de patología abdominal y con hallazgos ecográficos no concluyentes. Se revisan algunas de las patologías más frecuentes en la urgencia pediátrica, las diferentes pruebas de imagen indicadas y la semiología radiológica en las patologías abordadas\n",
      "MESH_TUPLE: (Emergencies, Humans, Adolescent, Appendicitis, Urologic Diseases, Intestinal Obstruction, Ultrasonography, Infant, Genital Diseases, Female, Child, Female, Male, Intussusception, Tomography, X-Ray Computed, Child, Preschool, Abdomen, Acute)\n"
     ]
    }
   ],
   "source": [
    "print('PMID:', row1['PMID'])\n",
    "print('MESH_MAJOR_TOPIC:', row1['MESH_MAJOR_TOPIC'])\n",
    "print('TITLE:', row1['TITLE'])\n",
    "print('ABSTRACT:', row1['ABSTRACT'])\n",
    "print('MESH_TUPLE:', row1['MESH_TUPLE'])"
   ]
  },
  {
   "cell_type": "code",
   "execution_count": 30,
   "metadata": {
    "id": "fT_jS_2d_i85"
   },
   "outputs": [
    {
     "data": {
      "text/plain": [
       "(22934, 5)"
      ]
     },
     "execution_count": 30,
     "metadata": {},
     "output_type": "execute_result"
    }
   ],
   "source": [
    "df.shape"
   ]
  },
  {
   "cell_type": "markdown",
   "metadata": {
    "id": "XlNoeSZJcMku"
   },
   "source": [
    "# MESH MAJOR TOPIC"
   ]
  },
  {
   "cell_type": "code",
   "execution_count": 31,
   "metadata": {
    "id": "6Z5eeKVHcUaW"
   },
   "outputs": [
    {
     "name": "stdout",
     "output_type": "stream",
     "text": [
      "There are 3078 uniques MESH terms in the corpus.\n"
     ]
    }
   ],
   "source": [
    "n_mesh = len(df['MESH_MAJOR_TOPIC'].unique())\n",
    "print(f'There are {n_mesh} uniques MESH terms in the corpus.')"
   ]
  },
  {
   "cell_type": "code",
   "execution_count": 32,
   "metadata": {
    "id": "KP28ZYMDdkOt"
   },
   "outputs": [
    {
     "data": {
      "text/plain": [
       "n_publications\n",
       "1     669\n",
       "2     473\n",
       "3     314\n",
       "4     218\n",
       "5     182\n",
       "6     148\n",
       "7     116\n",
       "8     102\n",
       "9     102\n",
       "10     86\n",
       "11     67\n",
       "12     61\n",
       "13     53\n",
       "14     34\n",
       "15     34\n",
       "16     37\n",
       "17     27\n",
       "18     36\n",
       "19     28\n",
       "20     25\n",
       "21     27\n",
       "22     17\n",
       "23     13\n",
       "24     14\n",
       "25     15\n",
       "26     16\n",
       "27     12\n",
       "28      9\n",
       "29     17\n",
       "30     14\n",
       "31      6\n",
       "32      7\n",
       "33      8\n",
       "34      8\n",
       "35      5\n",
       "36      3\n",
       "37      7\n",
       "38      3\n",
       "39      4\n",
       "40      7\n",
       "41      4\n",
       "42      5\n",
       "43      3\n",
       "44      1\n",
       "45      3\n",
       "46      6\n",
       "47      4\n",
       "48      4\n",
       "49      6\n",
       "50     18\n",
       "Name: publications_per_mesh, dtype: int64"
      ]
     },
     "execution_count": 32,
     "metadata": {},
     "output_type": "execute_result"
    }
   ],
   "source": [
    "pubs_per_mesh = df['MESH_MAJOR_TOPIC'].value_counts().value_counts().sort_index().rename(\"publications_per_mesh\")\n",
    "pubs_per_mesh.rename_axis('n_publications')"
   ]
  },
  {
   "cell_type": "code",
   "execution_count": 33,
   "metadata": {
    "id": "lOxYqjqB3J10"
   },
   "outputs": [
    {
     "data": {
      "text/plain": [
       "3078"
      ]
     },
     "execution_count": 33,
     "metadata": {},
     "output_type": "execute_result"
    }
   ],
   "source": [
    "pubs_per_mesh.sum()"
   ]
  },
  {
   "cell_type": "code",
   "execution_count": 34,
   "metadata": {
    "id": "KYEhV0jSpr8A"
   },
   "outputs": [
    {
     "data": {
      "image/png": "[encoded data removed]",
      "text/plain": [
       "<Figure size 1500x600 with 1 Axes>"
      ]
     },
     "metadata": {},
     "output_type": "display_data"
    }
   ],
   "source": [
    "fig = plt.figure(figsize=(15, 6))\n",
    "\n",
    "plt.bar(pubs_per_mesh.index, pubs_per_mesh)\n",
    "plt.xticks(pubs_per_mesh.index)\n",
    "\n",
    "plt.xlabel('Number of Publications per Mesh')\n",
    "plt.ylabel('Amount of MESH with publications indicated in X axis')\n",
    "plt.title('Distribution of Publications by Mesh Frequency')\n",
    "\n",
    "plt.show()"
   ]
  },
  {
   "cell_type": "code",
   "execution_count": 35,
   "metadata": {},
   "outputs": [
    {
     "name": "stdout",
     "output_type": "stream",
     "text": [
      "There are 2077 mesh terms related with diagnosis (codes starting with C, F03) without publications writed in spanish.\n"
     ]
    }
   ],
   "source": [
    "print(f'There are {len(os.listdir(\"../data/meshs_json\"))-pubs_per_mesh.sum()} mesh terms related with diagnosis (codes starting with C, F03) without publications writed in spanish.')"
   ]
  },
  {
   "cell_type": "markdown",
   "metadata": {
    "id": "smmqdqdS3zNG"
   },
   "source": [
    "# PMID"
   ]
  },
  {
   "cell_type": "markdown",
   "metadata": {
    "id": "AzSx9hD64Lzr"
   },
   "source": [
    "Let's check if there're repeated publications."
   ]
  },
  {
   "cell_type": "code",
   "execution_count": 36,
   "metadata": {
    "id": "dF_0vfsg3ypU"
   },
   "outputs": [
    {
     "data": {
      "text/plain": [
       "0        27041066\n",
       "1        26875476\n",
       "2        30772003\n",
       "3        30497686\n",
       "4        28254168\n",
       "           ...   \n",
       "22929    29169978\n",
       "22930    25217064\n",
       "22931    29622414\n",
       "22932    29866441\n",
       "22933    31371098\n",
       "Name: PMID, Length: 22934, dtype: int64"
      ]
     },
     "execution_count": 36,
     "metadata": {},
     "output_type": "execute_result"
    }
   ],
   "source": [
    "df['PMID']"
   ]
  },
  {
   "cell_type": "code",
   "execution_count": 37,
   "metadata": {
    "id": "SpZWuIJ436rL"
   },
   "outputs": [
    {
     "data": {
      "text/plain": [
       "PMID\n",
       "28110901    6\n",
       "12724079    6\n",
       "24456908    6\n",
       "19818662    6\n",
       "26164135    6\n",
       "           ..\n",
       "28623033    1\n",
       "26306956    1\n",
       "21514862    1\n",
       "20362521    1\n",
       "29622414    1\n",
       "Name: count, Length: 16114, dtype: int64"
      ]
     },
     "execution_count": 37,
     "metadata": {},
     "output_type": "execute_result"
    }
   ],
   "source": [
    "df['PMID'].value_counts()"
   ]
  },
  {
   "cell_type": "markdown",
   "metadata": {
    "id": "tOrvr56V5gM1"
   },
   "source": [
    "We see that we have repeated values; some publications appear 6 times in the dataframe. Let's check in detail what is happening."
   ]
  },
  {
   "cell_type": "code",
   "execution_count": 38,
   "metadata": {
    "id": "29inzUQO5Gbr"
   },
   "outputs": [
    {
     "data": {
      "text/html": [
       "<div>\n",
       "<style scoped>\n",
       "    .dataframe tbody tr th:only-of-type {\n",
       "        vertical-align: middle;\n",
       "    }\n",
       "\n",
       "    .dataframe tbody tr th {\n",
       "        vertical-align: top;\n",
       "    }\n",
       "\n",
       "    .dataframe thead th {\n",
       "        text-align: right;\n",
       "    }\n",
       "</style>\n",
       "<table border=\"1\" class=\"dataframe\">\n",
       "  <thead>\n",
       "    <tr style=\"text-align: right;\">\n",
       "      <th></th>\n",
       "      <th>PMID</th>\n",
       "      <th>MESH_MAJOR_TOPIC</th>\n",
       "      <th>TITLE</th>\n",
       "      <th>ABSTRACT</th>\n",
       "      <th>MESH_TUPLE</th>\n",
       "    </tr>\n",
       "  </thead>\n",
       "  <tbody>\n",
       "    <tr>\n",
       "      <th>412</th>\n",
       "      <td>1295840</td>\n",
       "      <td>Iron Deficiencies</td>\n",
       "      <td>Asociación entre carencia de hierro y trastorn...</td>\n",
       "      <td>Resumen Con vista a la prevención de futuros p...</td>\n",
       "      <td>(Prevalence, Analysis of Variance, Spain, Huma...</td>\n",
       "    </tr>\n",
       "    <tr>\n",
       "      <th>9194</th>\n",
       "      <td>1295840</td>\n",
       "      <td>Learning Disabilities</td>\n",
       "      <td>Asociación entre carencia de hierro y trastorn...</td>\n",
       "      <td>Resumen Con vista a la prevención de futuros p...</td>\n",
       "      <td>(Prevalence, Analysis of Variance, Spain, Huma...</td>\n",
       "    </tr>\n",
       "    <tr>\n",
       "      <th>10224</th>\n",
       "      <td>7582436</td>\n",
       "      <td>Meningocele</td>\n",
       "      <td>Meningocele intratorácico en la enfermedad de ...</td>\n",
       "      <td>La causa más frecuente de tumores en el medias...</td>\n",
       "      <td>(Adult, Meningocele, Neurofibromatosis 1, Huma...</td>\n",
       "    </tr>\n",
       "    <tr>\n",
       "      <th>11241</th>\n",
       "      <td>7582436</td>\n",
       "      <td>Neurofibromatosis 1</td>\n",
       "      <td>Meningocele intratorácico en la enfermedad de ...</td>\n",
       "      <td>La causa más frecuente de tumores en el medias...</td>\n",
       "      <td>(Adult, Meningocele, Neurofibromatosis 1, Huma...</td>\n",
       "    </tr>\n",
       "    <tr>\n",
       "      <th>15599</th>\n",
       "      <td>7582438</td>\n",
       "      <td>Thoracic Injuries</td>\n",
       "      <td>Hemotórax traumático tratado mediante cirugía ...</td>\n",
       "      <td>La introducción de la cirugía toracoscópica vi...</td>\n",
       "      <td>(Accidental Falls, Humans, Hemothorax, Video R...</td>\n",
       "    </tr>\n",
       "    <tr>\n",
       "      <th>7400</th>\n",
       "      <td>7582438</td>\n",
       "      <td>Hemothorax</td>\n",
       "      <td>Hemotórax traumático tratado mediante cirugía ...</td>\n",
       "      <td>La introducción de la cirugía toracoscópica vi...</td>\n",
       "      <td>(Accidental Falls, Humans, Hemothorax, Video R...</td>\n",
       "    </tr>\n",
       "    <tr>\n",
       "      <th>4201</th>\n",
       "      <td>7627427</td>\n",
       "      <td>Cryptococcosis</td>\n",
       "      <td>Criptococosis sistémica y neumocistosis en un ...</td>\n",
       "      <td>La criptococosis es una de las principales inf...</td>\n",
       "      <td>(AIDS-Related Opportunistic Infections, Adult,...</td>\n",
       "    </tr>\n",
       "    <tr>\n",
       "      <th>12797</th>\n",
       "      <td>7627427</td>\n",
       "      <td>Pneumonia, Pneumocystis</td>\n",
       "      <td>Criptococosis sistémica y neumocistosis en un ...</td>\n",
       "      <td>La criptococosis es una de las principales inf...</td>\n",
       "      <td>(AIDS-Related Opportunistic Infections, Adult,...</td>\n",
       "    </tr>\n",
       "    <tr>\n",
       "      <th>1467</th>\n",
       "      <td>7704392</td>\n",
       "      <td>Aspergillosis</td>\n",
       "      <td>Tratamiento quirúrgico del aspergiloma pulmonar</td>\n",
       "      <td>La aspergilosis pulmonar puede considerarse ho...</td>\n",
       "      <td>(Adult, Lung Diseases, Fungal, Aspergillosis, ...</td>\n",
       "    </tr>\n",
       "    <tr>\n",
       "      <th>9570</th>\n",
       "      <td>7704392</td>\n",
       "      <td>Lung Diseases, Fungal</td>\n",
       "      <td>Tratamiento quirúrgico del aspergiloma pulmonar</td>\n",
       "      <td>La aspergilosis pulmonar puede considerarse ho...</td>\n",
       "      <td>(Adult, Lung Diseases, Fungal, Aspergillosis, ...</td>\n",
       "    </tr>\n",
       "    <tr>\n",
       "      <th>12691</th>\n",
       "      <td>7743060</td>\n",
       "      <td>Pleural Effusion</td>\n",
       "      <td>Engrosamiento pleural en el derrame pleural tu...</td>\n",
       "      <td>Nuestro objetivo ha sido determinar qué factor...</td>\n",
       "      <td>(Adult, Humans, ROC Curve, Adolescent, Aged, 8...</td>\n",
       "    </tr>\n",
       "    <tr>\n",
       "      <th>16105</th>\n",
       "      <td>7743060</td>\n",
       "      <td>Tuberculosis, Pleural</td>\n",
       "      <td>Engrosamiento pleural en el derrame pleural tu...</td>\n",
       "      <td>Nuestro objetivo ha sido determinar qué factor...</td>\n",
       "      <td>(Adult, Humans, ROC Curve, Adolescent, Aged, 8...</td>\n",
       "    </tr>\n",
       "    <tr>\n",
       "      <th>20288</th>\n",
       "      <td>7827760</td>\n",
       "      <td>alpha 1-Antitrypsin Deficiency</td>\n",
       "      <td>Evaluación del tratamiento sustitutivo del enf...</td>\n",
       "      <td>Evaluación del tratamiento sustitutivo en paci...</td>\n",
       "      <td>(Adult, Evaluation Studies as Topic, Humans, P...</td>\n",
       "    </tr>\n",
       "    <tr>\n",
       "      <th>13531</th>\n",
       "      <td>7827760</td>\n",
       "      <td>Pulmonary Emphysema</td>\n",
       "      <td>Evaluación del tratamiento sustitutivo del enf...</td>\n",
       "      <td>Evaluación del tratamiento sustitutivo en paci...</td>\n",
       "      <td>(Adult, Evaluation Studies as Topic, Humans, P...</td>\n",
       "    </tr>\n",
       "    <tr>\n",
       "      <th>7977</th>\n",
       "      <td>7827766</td>\n",
       "      <td>Hypergammaglobulinemia</td>\n",
       "      <td>Traqueobroncomegalia asociada a enfermedad por...</td>\n",
       "      <td>La traqueobroncomegalia o síndrome de Mounier-...</td>\n",
       "      <td>(Immunohistochemistry, Humans, Immunoglobulin ...</td>\n",
       "    </tr>\n",
       "    <tr>\n",
       "      <th>15952</th>\n",
       "      <td>7827766</td>\n",
       "      <td>Tracheobronchomegaly</td>\n",
       "      <td>Traqueobroncomegalia asociada a enfermedad por...</td>\n",
       "      <td>La traqueobroncomegalia o síndrome de Mounier-...</td>\n",
       "      <td>(Immunohistochemistry, Humans, Immunoglobulin ...</td>\n",
       "    </tr>\n",
       "    <tr>\n",
       "      <th>9563</th>\n",
       "      <td>7952840</td>\n",
       "      <td>Lung Diseases, Fungal</td>\n",
       "      <td>Micetoma pulmonar</td>\n",
       "      <td>Realizamos un estudio retrospectivo de los mic...</td>\n",
       "      <td>(Adult, Lung Diseases, Fungal, Humans, Aged, 8...</td>\n",
       "    </tr>\n",
       "    <tr>\n",
       "      <th>9900</th>\n",
       "      <td>7952840</td>\n",
       "      <td>Mycetoma</td>\n",
       "      <td>Micetoma pulmonar</td>\n",
       "      <td>Realizamos un estudio retrospectivo de los mic...</td>\n",
       "      <td>(Adult, Lung Diseases, Fungal, Humans, Aged, 8...</td>\n",
       "    </tr>\n",
       "    <tr>\n",
       "      <th>7045</th>\n",
       "      <td>7952841</td>\n",
       "      <td>Heart Injuries</td>\n",
       "      <td>Rotura cardíaca tras traumatismo torácico cerrado</td>\n",
       "      <td>Se describe el caso de una mujer de 39 años de...</td>\n",
       "      <td>(Adult, Heart Injuries, Heart Atria, Humans, W...</td>\n",
       "    </tr>\n",
       "    <tr>\n",
       "      <th>15607</th>\n",
       "      <td>7952841</td>\n",
       "      <td>Thoracic Injuries</td>\n",
       "      <td>Rotura cardíaca tras traumatismo torácico cerrado</td>\n",
       "      <td>Se describe el caso de una mujer de 39 años de...</td>\n",
       "      <td>(Adult, Heart Injuries, Heart Atria, Humans, W...</td>\n",
       "    </tr>\n",
       "  </tbody>\n",
       "</table>\n",
       "</div>"
      ],
      "text/plain": [
       "          PMID                MESH_MAJOR_TOPIC  \\\n",
       "412    1295840               Iron Deficiencies   \n",
       "9194   1295840           Learning Disabilities   \n",
       "10224  7582436                     Meningocele   \n",
       "11241  7582436             Neurofibromatosis 1   \n",
       "15599  7582438               Thoracic Injuries   \n",
       "7400   7582438                      Hemothorax   \n",
       "4201   7627427                  Cryptococcosis   \n",
       "12797  7627427         Pneumonia, Pneumocystis   \n",
       "1467   7704392                   Aspergillosis   \n",
       "9570   7704392           Lung Diseases, Fungal   \n",
       "12691  7743060                Pleural Effusion   \n",
       "16105  7743060           Tuberculosis, Pleural   \n",
       "20288  7827760  alpha 1-Antitrypsin Deficiency   \n",
       "13531  7827760             Pulmonary Emphysema   \n",
       "7977   7827766          Hypergammaglobulinemia   \n",
       "15952  7827766            Tracheobronchomegaly   \n",
       "9563   7952840           Lung Diseases, Fungal   \n",
       "9900   7952840                        Mycetoma   \n",
       "7045   7952841                  Heart Injuries   \n",
       "15607  7952841               Thoracic Injuries   \n",
       "\n",
       "                                                   TITLE  \\\n",
       "412    Asociación entre carencia de hierro y trastorn...   \n",
       "9194   Asociación entre carencia de hierro y trastorn...   \n",
       "10224  Meningocele intratorácico en la enfermedad de ...   \n",
       "11241  Meningocele intratorácico en la enfermedad de ...   \n",
       "15599  Hemotórax traumático tratado mediante cirugía ...   \n",
       "7400   Hemotórax traumático tratado mediante cirugía ...   \n",
       "4201   Criptococosis sistémica y neumocistosis en un ...   \n",
       "12797  Criptococosis sistémica y neumocistosis en un ...   \n",
       "1467     Tratamiento quirúrgico del aspergiloma pulmonar   \n",
       "9570     Tratamiento quirúrgico del aspergiloma pulmonar   \n",
       "12691  Engrosamiento pleural en el derrame pleural tu...   \n",
       "16105  Engrosamiento pleural en el derrame pleural tu...   \n",
       "20288  Evaluación del tratamiento sustitutivo del enf...   \n",
       "13531  Evaluación del tratamiento sustitutivo del enf...   \n",
       "7977   Traqueobroncomegalia asociada a enfermedad por...   \n",
       "15952  Traqueobroncomegalia asociada a enfermedad por...   \n",
       "9563                                   Micetoma pulmonar   \n",
       "9900                                   Micetoma pulmonar   \n",
       "7045   Rotura cardíaca tras traumatismo torácico cerrado   \n",
       "15607  Rotura cardíaca tras traumatismo torácico cerrado   \n",
       "\n",
       "                                                ABSTRACT  \\\n",
       "412    Resumen Con vista a la prevención de futuros p...   \n",
       "9194   Resumen Con vista a la prevención de futuros p...   \n",
       "10224  La causa más frecuente de tumores en el medias...   \n",
       "11241  La causa más frecuente de tumores en el medias...   \n",
       "15599  La introducción de la cirugía toracoscópica vi...   \n",
       "7400   La introducción de la cirugía toracoscópica vi...   \n",
       "4201   La criptococosis es una de las principales inf...   \n",
       "12797  La criptococosis es una de las principales inf...   \n",
       "1467   La aspergilosis pulmonar puede considerarse ho...   \n",
       "9570   La aspergilosis pulmonar puede considerarse ho...   \n",
       "12691  Nuestro objetivo ha sido determinar qué factor...   \n",
       "16105  Nuestro objetivo ha sido determinar qué factor...   \n",
       "20288  Evaluación del tratamiento sustitutivo en paci...   \n",
       "13531  Evaluación del tratamiento sustitutivo en paci...   \n",
       "7977   La traqueobroncomegalia o síndrome de Mounier-...   \n",
       "15952  La traqueobroncomegalia o síndrome de Mounier-...   \n",
       "9563   Realizamos un estudio retrospectivo de los mic...   \n",
       "9900   Realizamos un estudio retrospectivo de los mic...   \n",
       "7045   Se describe el caso de una mujer de 39 años de...   \n",
       "15607  Se describe el caso de una mujer de 39 años de...   \n",
       "\n",
       "                                              MESH_TUPLE  \n",
       "412    (Prevalence, Analysis of Variance, Spain, Huma...  \n",
       "9194   (Prevalence, Analysis of Variance, Spain, Huma...  \n",
       "10224  (Adult, Meningocele, Neurofibromatosis 1, Huma...  \n",
       "11241  (Adult, Meningocele, Neurofibromatosis 1, Huma...  \n",
       "15599  (Accidental Falls, Humans, Hemothorax, Video R...  \n",
       "7400   (Accidental Falls, Humans, Hemothorax, Video R...  \n",
       "4201   (AIDS-Related Opportunistic Infections, Adult,...  \n",
       "12797  (AIDS-Related Opportunistic Infections, Adult,...  \n",
       "1467   (Adult, Lung Diseases, Fungal, Aspergillosis, ...  \n",
       "9570   (Adult, Lung Diseases, Fungal, Aspergillosis, ...  \n",
       "12691  (Adult, Humans, ROC Curve, Adolescent, Aged, 8...  \n",
       "16105  (Adult, Humans, ROC Curve, Adolescent, Aged, 8...  \n",
       "20288  (Adult, Evaluation Studies as Topic, Humans, P...  \n",
       "13531  (Adult, Evaluation Studies as Topic, Humans, P...  \n",
       "7977   (Immunohistochemistry, Humans, Immunoglobulin ...  \n",
       "15952  (Immunohistochemistry, Humans, Immunoglobulin ...  \n",
       "9563   (Adult, Lung Diseases, Fungal, Humans, Aged, 8...  \n",
       "9900   (Adult, Lung Diseases, Fungal, Humans, Aged, 8...  \n",
       "7045   (Adult, Heart Injuries, Heart Atria, Humans, W...  \n",
       "15607  (Adult, Heart Injuries, Heart Atria, Humans, W...  "
      ]
     },
     "execution_count": 38,
     "metadata": {},
     "output_type": "execute_result"
    }
   ],
   "source": [
    "df[df.duplicated(subset=['PMID'], keep=False)].sort_values(by='PMID').head(20)\n"
   ]
  },
  {
   "cell_type": "markdown",
   "metadata": {
    "id": "x_qIGBJl68Ns"
   },
   "source": [
    "As we can see, these are the same publications but with different major topics. Therefore, we will not consider them as errors and will leave them in the dataframe. However, we will review if there are completely duplicated rows in the dataframe."
   ]
  },
  {
   "cell_type": "code",
   "execution_count": 39,
   "metadata": {
    "id": "Fmh6Rxf-6kxH"
   },
   "outputs": [
    {
     "data": {
      "text/html": [
       "<div>\n",
       "<style scoped>\n",
       "    .dataframe tbody tr th:only-of-type {\n",
       "        vertical-align: middle;\n",
       "    }\n",
       "\n",
       "    .dataframe tbody tr th {\n",
       "        vertical-align: top;\n",
       "    }\n",
       "\n",
       "    .dataframe thead th {\n",
       "        text-align: right;\n",
       "    }\n",
       "</style>\n",
       "<table border=\"1\" class=\"dataframe\">\n",
       "  <thead>\n",
       "    <tr style=\"text-align: right;\">\n",
       "      <th></th>\n",
       "      <th>PMID</th>\n",
       "      <th>MESH_MAJOR_TOPIC</th>\n",
       "      <th>TITLE</th>\n",
       "      <th>ABSTRACT</th>\n",
       "      <th>MESH_TUPLE</th>\n",
       "    </tr>\n",
       "  </thead>\n",
       "  <tbody>\n",
       "  </tbody>\n",
       "</table>\n",
       "</div>"
      ],
      "text/plain": [
       "Empty DataFrame\n",
       "Columns: [PMID, MESH_MAJOR_TOPIC, TITLE, ABSTRACT, MESH_TUPLE]\n",
       "Index: []"
      ]
     },
     "execution_count": 39,
     "metadata": {},
     "output_type": "execute_result"
    }
   ],
   "source": [
    "df[df.duplicated(keep=False)]"
   ]
  },
  {
   "cell_type": "markdown",
   "metadata": {
    "id": "FlYwxfuq7FNH"
   },
   "source": [
    "There are no completely duplicated rows in the dataframe"
   ]
  },
  {
   "cell_type": "code",
   "execution_count": 40,
   "metadata": {},
   "outputs": [
    {
     "data": {
      "text/plain": [
       "9194      1295840\n",
       "11241     7582436\n",
       "15599     7582438\n",
       "12797     7627427\n",
       "9570      7704392\n",
       "           ...   \n",
       "426      38277734\n",
       "12543    38402070\n",
       "21107    38423944\n",
       "10736    38423944\n",
       "7875     38508875\n",
       "Name: PMID, Length: 6820, dtype: int64"
      ]
     },
     "execution_count": 40,
     "metadata": {},
     "output_type": "execute_result"
    }
   ],
   "source": [
    "df[df['PMID'].duplicated()].sort_values(by='PMID')['PMID']"
   ]
  },
  {
   "cell_type": "markdown",
   "metadata": {},
   "source": [
    "Some publications appear more than once in the dataset. This is because the same publication appears twice or more times in the dataset, but with different MESH terms. This is not a problem, as we can use the same publication to train the model with different MESH terms."
   ]
  },
  {
   "cell_type": "markdown",
   "metadata": {
    "id": "8VnhW_BasfFZ"
   },
   "source": [
    "# Subset based in amount of publications"
   ]
  },
  {
   "cell_type": "markdown",
   "metadata": {
    "id": "0SVo8uwgskqz"
   },
   "source": [
    "Based on the distribution of the number of publications grouped by Mesh, Mesh terms with fewer than 10 publications will be dropped from the data frame to avoid under-representation, while those with 10 or more publications will be retained."
   ]
  },
  {
   "cell_type": "code",
   "execution_count": 41,
   "metadata": {
    "id": "-BpNVhTYtU2B"
   },
   "outputs": [],
   "source": [
    "n = 10\n",
    "corpus_df = df[df['MESH_MAJOR_TOPIC'].map(df['MESH_MAJOR_TOPIC'].value_counts()) == n]\n",
    "\n",
    "corpus_df.reset_index(inplace=True)"
   ]
  },
  {
   "cell_type": "code",
   "execution_count": 42,
   "metadata": {
    "id": "KVGQ9wljtyN1"
   },
   "outputs": [
    {
     "data": {
      "text/html": [
       "<div>\n",
       "<style scoped>\n",
       "    .dataframe tbody tr th:only-of-type {\n",
       "        vertical-align: middle;\n",
       "    }\n",
       "\n",
       "    .dataframe tbody tr th {\n",
       "        vertical-align: top;\n",
       "    }\n",
       "\n",
       "    .dataframe thead th {\n",
       "        text-align: right;\n",
       "    }\n",
       "</style>\n",
       "<table border=\"1\" class=\"dataframe\">\n",
       "  <thead>\n",
       "    <tr style=\"text-align: right;\">\n",
       "      <th></th>\n",
       "      <th>index</th>\n",
       "      <th>PMID</th>\n",
       "      <th>MESH_MAJOR_TOPIC</th>\n",
       "      <th>TITLE</th>\n",
       "      <th>ABSTRACT</th>\n",
       "      <th>MESH_TUPLE</th>\n",
       "    </tr>\n",
       "  </thead>\n",
       "  <tbody>\n",
       "    <tr>\n",
       "      <th>0</th>\n",
       "      <td>186</td>\n",
       "      <td>27156484</td>\n",
       "      <td>Zika Virus Infection</td>\n",
       "      <td>Infección por el virus Zika o el futuro de las...</td>\n",
       "      <td>El virus Zika es un Flavivirus filogenéticamen...</td>\n",
       "      <td>(Zika Virus, Disease Reservoirs, Humans, Phylo...</td>\n",
       "    </tr>\n",
       "    <tr>\n",
       "      <th>1</th>\n",
       "      <td>187</td>\n",
       "      <td>30797578</td>\n",
       "      <td>Zika Virus Infection</td>\n",
       "      <td>La enfermedad por virus Zika en España. Result...</td>\n",
       "      <td>Introducción y objetivo La enfermedad por viru...</td>\n",
       "      <td>(Population Surveillance, Seroconversion, Inse...</td>\n",
       "    </tr>\n",
       "    <tr>\n",
       "      <th>2</th>\n",
       "      <td>188</td>\n",
       "      <td>29720353</td>\n",
       "      <td>Zika Virus Infection</td>\n",
       "      <td>Neurorretinopatía autoinmune secundaria a infe...</td>\n",
       "      <td>Caso clínico Mujer de 40 años, infectada 6 mes...</td>\n",
       "      <td>(Adult, Humans, Autoimmune Diseases of the Ner...</td>\n",
       "    </tr>\n",
       "    <tr>\n",
       "      <th>3</th>\n",
       "      <td>189</td>\n",
       "      <td>31679764</td>\n",
       "      <td>Zika Virus Infection</td>\n",
       "      <td>Manifestaciones oftálmicas de las infecciones ...</td>\n",
       "      <td>Introducción y objetivos Las infecciones por a...</td>\n",
       "      <td>(Sex Distribution, Adult, Symptom Assessment, ...</td>\n",
       "    </tr>\n",
       "    <tr>\n",
       "      <th>4</th>\n",
       "      <td>190</td>\n",
       "      <td>32660804</td>\n",
       "      <td>Zika Virus Infection</td>\n",
       "      <td>Experiencia de mujeres con infección prenatal ...</td>\n",
       "      <td>Objetivo Comprender el proceso de toma de deci...</td>\n",
       "      <td>(Pregnancy Complications, Infectious, Zika Vir...</td>\n",
       "    </tr>\n",
       "  </tbody>\n",
       "</table>\n",
       "</div>"
      ],
      "text/plain": [
       "   index      PMID      MESH_MAJOR_TOPIC  \\\n",
       "0    186  27156484  Zika Virus Infection   \n",
       "1    187  30797578  Zika Virus Infection   \n",
       "2    188  29720353  Zika Virus Infection   \n",
       "3    189  31679764  Zika Virus Infection   \n",
       "4    190  32660804  Zika Virus Infection   \n",
       "\n",
       "                                               TITLE  \\\n",
       "0  Infección por el virus Zika o el futuro de las...   \n",
       "1  La enfermedad por virus Zika en España. Result...   \n",
       "2  Neurorretinopatía autoinmune secundaria a infe...   \n",
       "3  Manifestaciones oftálmicas de las infecciones ...   \n",
       "4  Experiencia de mujeres con infección prenatal ...   \n",
       "\n",
       "                                            ABSTRACT  \\\n",
       "0  El virus Zika es un Flavivirus filogenéticamen...   \n",
       "1  Introducción y objetivo La enfermedad por viru...   \n",
       "2  Caso clínico Mujer de 40 años, infectada 6 mes...   \n",
       "3  Introducción y objetivos Las infecciones por a...   \n",
       "4  Objetivo Comprender el proceso de toma de deci...   \n",
       "\n",
       "                                          MESH_TUPLE  \n",
       "0  (Zika Virus, Disease Reservoirs, Humans, Phylo...  \n",
       "1  (Population Surveillance, Seroconversion, Inse...  \n",
       "2  (Adult, Humans, Autoimmune Diseases of the Ner...  \n",
       "3  (Sex Distribution, Adult, Symptom Assessment, ...  \n",
       "4  (Pregnancy Complications, Infectious, Zika Vir...  "
      ]
     },
     "execution_count": 42,
     "metadata": {},
     "output_type": "execute_result"
    }
   ],
   "source": [
    "corpus_df.head()"
   ]
  },
  {
   "cell_type": "code",
   "execution_count": 43,
   "metadata": {
    "id": "goUDzc6duaG8"
   },
   "outputs": [
    {
     "name": "stdout",
     "output_type": "stream",
     "text": [
      "(860, 6)\n"
     ]
    }
   ],
   "source": [
    "print(corpus_df.shape)"
   ]
  },
  {
   "cell_type": "code",
   "execution_count": 44,
   "metadata": {
    "id": "ka2B4zARt_Yt"
   },
   "outputs": [
    {
     "name": "stdout",
     "output_type": "stream",
     "text": [
      "There are 86 mesh with 10 publications associated.\n"
     ]
    }
   ],
   "source": [
    "unique_meshes = len(corpus_df['MESH_MAJOR_TOPIC'].unique())\n",
    "print(f'There are {unique_meshes} mesh with {n} publications associated.')"
   ]
  },
  {
   "cell_type": "code",
   "execution_count": 45,
   "metadata": {
    "id": "BM9XvF7Iuell"
   },
   "outputs": [
    {
     "data": {
      "text/html": [
       "<div>\n",
       "<style scoped>\n",
       "    .dataframe tbody tr th:only-of-type {\n",
       "        vertical-align: middle;\n",
       "    }\n",
       "\n",
       "    .dataframe tbody tr th {\n",
       "        vertical-align: top;\n",
       "    }\n",
       "\n",
       "    .dataframe thead th {\n",
       "        text-align: right;\n",
       "    }\n",
       "</style>\n",
       "<table border=\"1\" class=\"dataframe\">\n",
       "  <thead>\n",
       "    <tr style=\"text-align: right;\">\n",
       "      <th></th>\n",
       "      <th>index</th>\n",
       "      <th>PMID</th>\n",
       "      <th>MESH_MAJOR_TOPIC</th>\n",
       "      <th>TITLE</th>\n",
       "      <th>ABSTRACT</th>\n",
       "      <th>MESH_TUPLE</th>\n",
       "    </tr>\n",
       "  </thead>\n",
       "  <tbody>\n",
       "    <tr>\n",
       "      <th>614</th>\n",
       "      <td>16988</td>\n",
       "      <td>11787403</td>\n",
       "      <td>Xanthomatosis</td>\n",
       "      <td>Xantogranuloma sintomático del ventrículo lateral</td>\n",
       "      <td>Los xantogranulomas del ventrículo lateral son...</td>\n",
       "      <td>(Granuloma, Humans, Lateral Ventricles, Cranio...</td>\n",
       "    </tr>\n",
       "    <tr>\n",
       "      <th>605</th>\n",
       "      <td>16708</td>\n",
       "      <td>11787403</td>\n",
       "      <td>Vision Disorders</td>\n",
       "      <td>Xantogranuloma sintomático del ventrículo lateral</td>\n",
       "      <td>Los xantogranulomas del ventrículo lateral son...</td>\n",
       "      <td>(Granuloma, Humans, Lateral Ventricles, Cranio...</td>\n",
       "    </tr>\n",
       "    <tr>\n",
       "      <th>233</th>\n",
       "      <td>6636</td>\n",
       "      <td>11787403</td>\n",
       "      <td>Granuloma</td>\n",
       "      <td>Xantogranuloma sintomático del ventrículo lateral</td>\n",
       "      <td>Los xantogranulomas del ventrículo lateral son...</td>\n",
       "      <td>(Granuloma, Humans, Lateral Ventricles, Cranio...</td>\n",
       "    </tr>\n",
       "    <tr>\n",
       "      <th>397</th>\n",
       "      <td>11827</td>\n",
       "      <td>12464164</td>\n",
       "      <td>Otitis Media with Effusion</td>\n",
       "      <td>Otitis media serosa y alergia en nuestra área ...</td>\n",
       "      <td>Hemos estudiado la incidencia de enfermedades ...</td>\n",
       "      <td>(Rhinitis, Allergic, Perennial, Antibody Speci...</td>\n",
       "    </tr>\n",
       "    <tr>\n",
       "      <th>249</th>\n",
       "      <td>6803</td>\n",
       "      <td>12464164</td>\n",
       "      <td>Rhinitis, Allergic, Seasonal</td>\n",
       "      <td>Otitis media serosa y alergia en nuestra área ...</td>\n",
       "      <td>Hemos estudiado la incidencia de enfermedades ...</td>\n",
       "      <td>(Rhinitis, Allergic, Perennial, Antibody Speci...</td>\n",
       "    </tr>\n",
       "    <tr>\n",
       "      <th>633</th>\n",
       "      <td>17517</td>\n",
       "      <td>15826581</td>\n",
       "      <td>Fatigue Syndrome, Chronic</td>\n",
       "      <td>Síndrome de fatiga crónica e hipersensibilidad...</td>\n",
       "      <td>Fundamento y objetivo El síndrome de fatiga cr...</td>\n",
       "      <td>(Adult, Fatigue Syndrome, Chronic, Humans, Ado...</td>\n",
       "    </tr>\n",
       "    <tr>\n",
       "      <th>729</th>\n",
       "      <td>19767</td>\n",
       "      <td>15826581</td>\n",
       "      <td>Multiple Chemical Sensitivity</td>\n",
       "      <td>Síndrome de fatiga crónica e hipersensibilidad...</td>\n",
       "      <td>Fundamento y objetivo El síndrome de fatiga cr...</td>\n",
       "      <td>(Adult, Fatigue Syndrome, Chronic, Humans, Ado...</td>\n",
       "    </tr>\n",
       "    <tr>\n",
       "      <th>512</th>\n",
       "      <td>14297</td>\n",
       "      <td>16324620</td>\n",
       "      <td>Osteosarcoma</td>\n",
       "      <td>Factores de riesgo para los tumores óseos mali...</td>\n",
       "      <td>Introducción El cáncer es el resultado final d...</td>\n",
       "      <td>(Adult, Humans, Bone Neoplasms, Adolescent, Ri...</td>\n",
       "    </tr>\n",
       "    <tr>\n",
       "      <th>503</th>\n",
       "      <td>14276</td>\n",
       "      <td>16324620</td>\n",
       "      <td>Sarcoma, Ewing</td>\n",
       "      <td>Factores de riesgo para los tumores óseos mali...</td>\n",
       "      <td>Introducción El cáncer es el resultado final d...</td>\n",
       "      <td>(Adult, Humans, Bone Neoplasms, Adolescent, Ri...</td>\n",
       "    </tr>\n",
       "    <tr>\n",
       "      <th>727</th>\n",
       "      <td>19765</td>\n",
       "      <td>16883665</td>\n",
       "      <td>Multiple Chemical Sensitivity</td>\n",
       "      <td>Hipersensibilidad química múltiple en el síndr...</td>\n",
       "      <td>El síndrome del edificio enfermo se refiere a ...</td>\n",
       "      <td>(Fatigue Syndrome, Chronic, Humans, Middle Age...</td>\n",
       "    </tr>\n",
       "    <tr>\n",
       "      <th>639</th>\n",
       "      <td>17523</td>\n",
       "      <td>16883665</td>\n",
       "      <td>Fatigue Syndrome, Chronic</td>\n",
       "      <td>Hipersensibilidad química múltiple en el síndr...</td>\n",
       "      <td>El síndrome del edificio enfermo se refiere a ...</td>\n",
       "      <td>(Fatigue Syndrome, Chronic, Humans, Middle Age...</td>\n",
       "    </tr>\n",
       "    <tr>\n",
       "      <th>238</th>\n",
       "      <td>6641</td>\n",
       "      <td>17173768</td>\n",
       "      <td>Granuloma</td>\n",
       "      <td>Xantogranuloma necrobiótico con paraproteinemi...</td>\n",
       "      <td>El xantogranuloma necrobiótico (Xn) con parapr...</td>\n",
       "      <td>(Granuloma, Lichen Sclerosus et Atrophicus, Tr...</td>\n",
       "    </tr>\n",
       "    <tr>\n",
       "      <th>617</th>\n",
       "      <td>16991</td>\n",
       "      <td>17173768</td>\n",
       "      <td>Xanthomatosis</td>\n",
       "      <td>Xantogranuloma necrobiótico con paraproteinemi...</td>\n",
       "      <td>El xantogranuloma necrobiótico (Xn) con parapr...</td>\n",
       "      <td>(Granuloma, Lichen Sclerosus et Atrophicus, Tr...</td>\n",
       "    </tr>\n",
       "    <tr>\n",
       "      <th>339</th>\n",
       "      <td>9717</td>\n",
       "      <td>17388650</td>\n",
       "      <td>Lymphadenitis</td>\n",
       "      <td>Linfadenitis canina producida por Cryptococcus...</td>\n",
       "      <td>Presentamos el primer caso de linfadenomegalia...</td>\n",
       "      <td>(Dogs, Antifungal Agents, Lymphadenitis, Dog D...</td>\n",
       "    </tr>\n",
       "    <tr>\n",
       "      <th>138</th>\n",
       "      <td>5073</td>\n",
       "      <td>17388650</td>\n",
       "      <td>Dog Diseases</td>\n",
       "      <td>Linfadenitis canina producida por Cryptococcus...</td>\n",
       "      <td>Presentamos el primer caso de linfadenomegalia...</td>\n",
       "      <td>(Dogs, Antifungal Agents, Lymphadenitis, Dog D...</td>\n",
       "    </tr>\n",
       "    <tr>\n",
       "      <th>79</th>\n",
       "      <td>2174</td>\n",
       "      <td>19627738</td>\n",
       "      <td>Bronchial Neoplasms</td>\n",
       "      <td>Síndrome de Cushing dependiente de ACTH, un pr...</td>\n",
       "      <td>El síndrome de Cushing dependiente de ACTH sup...</td>\n",
       "      <td>(False Negative Reactions, Adult, Bronchial Ne...</td>\n",
       "    </tr>\n",
       "    <tr>\n",
       "      <th>785</th>\n",
       "      <td>21514</td>\n",
       "      <td>19627738</td>\n",
       "      <td>Pituitary ACTH Hypersecretion</td>\n",
       "      <td>Síndrome de Cushing dependiente de ACTH, un pr...</td>\n",
       "      <td>El síndrome de Cushing dependiente de ACTH sup...</td>\n",
       "      <td>(False Negative Reactions, Adult, Bronchial Ne...</td>\n",
       "    </tr>\n",
       "    <tr>\n",
       "      <th>669</th>\n",
       "      <td>18472</td>\n",
       "      <td>20462672</td>\n",
       "      <td>Endometrial Neoplasms</td>\n",
       "      <td>Tumor epitelioide perivascular uterino. Utilid...</td>\n",
       "      <td>Los tumores epitelioides perivasculares son un...</td>\n",
       "      <td>(Perivascular Epithelioid Cell Neoplasms, Tube...</td>\n",
       "    </tr>\n",
       "    <tr>\n",
       "      <th>367</th>\n",
       "      <td>11020</td>\n",
       "      <td>20462672</td>\n",
       "      <td>Neoplasms, Hormone-Dependent</td>\n",
       "      <td>Tumor epitelioide perivascular uterino. Utilid...</td>\n",
       "      <td>Los tumores epitelioides perivasculares son un...</td>\n",
       "      <td>(Perivascular Epithelioid Cell Neoplasms, Tube...</td>\n",
       "    </tr>\n",
       "    <tr>\n",
       "      <th>161</th>\n",
       "      <td>5420</td>\n",
       "      <td>27493083</td>\n",
       "      <td>Endocarditis</td>\n",
       "      <td>Endocarditis infecciosa sobre válvula aórtica ...</td>\n",
       "      <td>Introducción La válvula aórtica bicúspide (VAB...</td>\n",
       "      <td>(Disease Susceptibility, Heart Failure, Endoca...</td>\n",
       "    </tr>\n",
       "    <tr>\n",
       "      <th>269</th>\n",
       "      <td>7120</td>\n",
       "      <td>27493083</td>\n",
       "      <td>Heart Valve Diseases</td>\n",
       "      <td>Endocarditis infecciosa sobre válvula aórtica ...</td>\n",
       "      <td>Introducción La válvula aórtica bicúspide (VAB...</td>\n",
       "      <td>(Disease Susceptibility, Heart Failure, Endoca...</td>\n",
       "    </tr>\n",
       "    <tr>\n",
       "      <th>828</th>\n",
       "      <td>22294</td>\n",
       "      <td>27894858</td>\n",
       "      <td>Vascular System Injuries</td>\n",
       "      <td>Luxación de codo con fractura ipsilateral del ...</td>\n",
       "      <td>La luxación de codo asociada a fractura ipsila...</td>\n",
       "      <td>(Adult, Multiple Trauma, Vascular System Injur...</td>\n",
       "    </tr>\n",
       "    <tr>\n",
       "      <th>18</th>\n",
       "      <td>423</td>\n",
       "      <td>27894858</td>\n",
       "      <td>Elbow Injuries</td>\n",
       "      <td>Luxación de codo con fractura ipsilateral del ...</td>\n",
       "      <td>La luxación de codo asociada a fractura ipsila...</td>\n",
       "      <td>(Adult, Multiple Trauma, Vascular System Injur...</td>\n",
       "    </tr>\n",
       "    <tr>\n",
       "      <th>301</th>\n",
       "      <td>8838</td>\n",
       "      <td>28057321</td>\n",
       "      <td>Jejunal Diseases</td>\n",
       "      <td>Sangrado digestivo por divertículos yeyunales:...</td>\n",
       "      <td>Antecedentes El sangrado de intestino delgado ...</td>\n",
       "      <td>(Cerebral Infarction, Kidney Failure, Chronic,...</td>\n",
       "    </tr>\n",
       "    <tr>\n",
       "      <th>125</th>\n",
       "      <td>5048</td>\n",
       "      <td>28057321</td>\n",
       "      <td>Diverticulum</td>\n",
       "      <td>Sangrado digestivo por divertículos yeyunales:...</td>\n",
       "      <td>Antecedentes El sangrado de intestino delgado ...</td>\n",
       "      <td>(Cerebral Infarction, Kidney Failure, Chronic,...</td>\n",
       "    </tr>\n",
       "    <tr>\n",
       "      <th>742</th>\n",
       "      <td>20634</td>\n",
       "      <td>28958396</td>\n",
       "      <td>Guillain-Barre Syndrome</td>\n",
       "      <td>Incidencia de síndrome de Guillain-Barré duran...</td>\n",
       "      <td>Introducción El síndrome de Guillain-Barré es ...</td>\n",
       "      <td>(Humans, Incidence, Middle Aged, Guillain-Barr...</td>\n",
       "    </tr>\n",
       "    <tr>\n",
       "      <th>9</th>\n",
       "      <td>195</td>\n",
       "      <td>28958396</td>\n",
       "      <td>Zika Virus Infection</td>\n",
       "      <td>Incidencia de síndrome de Guillain-Barré duran...</td>\n",
       "      <td>Introducción El síndrome de Guillain-Barré es ...</td>\n",
       "      <td>(Humans, Incidence, Middle Aged, Guillain-Barr...</td>\n",
       "    </tr>\n",
       "    <tr>\n",
       "      <th>234</th>\n",
       "      <td>6637</td>\n",
       "      <td>30712950</td>\n",
       "      <td>Granuloma</td>\n",
       "      <td>Xantogranuloma orbitario del adulto como causa...</td>\n",
       "      <td>El xantogranuloma orbitario del adulto es un r...</td>\n",
       "      <td>(Granuloma, Adult, Humans, Xanthomatosis, Blep...</td>\n",
       "    </tr>\n",
       "    <tr>\n",
       "      <th>615</th>\n",
       "      <td>16989</td>\n",
       "      <td>30712950</td>\n",
       "      <td>Xanthomatosis</td>\n",
       "      <td>Xantogranuloma orbitario del adulto como causa...</td>\n",
       "      <td>El xantogranuloma orbitario del adulto es un r...</td>\n",
       "      <td>(Granuloma, Adult, Humans, Xanthomatosis, Blep...</td>\n",
       "    </tr>\n",
       "    <tr>\n",
       "      <th>638</th>\n",
       "      <td>17522</td>\n",
       "      <td>32828657</td>\n",
       "      <td>Fatigue Syndrome, Chronic</td>\n",
       "      <td>¿Qué evidencia científica tienen los métodos p...</td>\n",
       "      <td>El síndrome de sensibilización central engloba...</td>\n",
       "      <td>(Central Nervous System Sensitization, Disable...</td>\n",
       "    </tr>\n",
       "    <tr>\n",
       "      <th>728</th>\n",
       "      <td>19766</td>\n",
       "      <td>32828657</td>\n",
       "      <td>Multiple Chemical Sensitivity</td>\n",
       "      <td>¿Qué evidencia científica tienen los métodos p...</td>\n",
       "      <td>El síndrome de sensibilización central engloba...</td>\n",
       "      <td>(Central Nervous System Sensitization, Disable...</td>\n",
       "    </tr>\n",
       "    <tr>\n",
       "      <th>584</th>\n",
       "      <td>16560</td>\n",
       "      <td>34400186</td>\n",
       "      <td>Varicose Veins</td>\n",
       "      <td>Hallazgos endoscópicos no relacionados con hip...</td>\n",
       "      <td>Objetivo El consenso de Baveno VI para el crib...</td>\n",
       "      <td>(Hypertension, Portal, Endoscopy, Gastrointest...</td>\n",
       "    </tr>\n",
       "    <tr>\n",
       "      <th>186</th>\n",
       "      <td>5672</td>\n",
       "      <td>34400186</td>\n",
       "      <td>Esophageal and Gastric Varices</td>\n",
       "      <td>Hallazgos endoscópicos no relacionados con hip...</td>\n",
       "      <td>Objetivo El consenso de Baveno VI para el crib...</td>\n",
       "      <td>(Hypertension, Portal, Endoscopy, Gastrointest...</td>\n",
       "    </tr>\n",
       "  </tbody>\n",
       "</table>\n",
       "</div>"
      ],
      "text/plain": [
       "     index      PMID                MESH_MAJOR_TOPIC  \\\n",
       "614  16988  11787403                   Xanthomatosis   \n",
       "605  16708  11787403                Vision Disorders   \n",
       "233   6636  11787403                       Granuloma   \n",
       "397  11827  12464164      Otitis Media with Effusion   \n",
       "249   6803  12464164    Rhinitis, Allergic, Seasonal   \n",
       "633  17517  15826581       Fatigue Syndrome, Chronic   \n",
       "729  19767  15826581   Multiple Chemical Sensitivity   \n",
       "512  14297  16324620                    Osteosarcoma   \n",
       "503  14276  16324620                  Sarcoma, Ewing   \n",
       "727  19765  16883665   Multiple Chemical Sensitivity   \n",
       "639  17523  16883665       Fatigue Syndrome, Chronic   \n",
       "238   6641  17173768                       Granuloma   \n",
       "617  16991  17173768                   Xanthomatosis   \n",
       "339   9717  17388650                   Lymphadenitis   \n",
       "138   5073  17388650                    Dog Diseases   \n",
       "79    2174  19627738             Bronchial Neoplasms   \n",
       "785  21514  19627738   Pituitary ACTH Hypersecretion   \n",
       "669  18472  20462672           Endometrial Neoplasms   \n",
       "367  11020  20462672    Neoplasms, Hormone-Dependent   \n",
       "161   5420  27493083                    Endocarditis   \n",
       "269   7120  27493083            Heart Valve Diseases   \n",
       "828  22294  27894858        Vascular System Injuries   \n",
       "18     423  27894858                  Elbow Injuries   \n",
       "301   8838  28057321                Jejunal Diseases   \n",
       "125   5048  28057321                    Diverticulum   \n",
       "742  20634  28958396         Guillain-Barre Syndrome   \n",
       "9      195  28958396            Zika Virus Infection   \n",
       "234   6637  30712950                       Granuloma   \n",
       "615  16989  30712950                   Xanthomatosis   \n",
       "638  17522  32828657       Fatigue Syndrome, Chronic   \n",
       "728  19766  32828657   Multiple Chemical Sensitivity   \n",
       "584  16560  34400186                  Varicose Veins   \n",
       "186   5672  34400186  Esophageal and Gastric Varices   \n",
       "\n",
       "                                                 TITLE  \\\n",
       "614  Xantogranuloma sintomático del ventrículo lateral   \n",
       "605  Xantogranuloma sintomático del ventrículo lateral   \n",
       "233  Xantogranuloma sintomático del ventrículo lateral   \n",
       "397  Otitis media serosa y alergia en nuestra área ...   \n",
       "249  Otitis media serosa y alergia en nuestra área ...   \n",
       "633  Síndrome de fatiga crónica e hipersensibilidad...   \n",
       "729  Síndrome de fatiga crónica e hipersensibilidad...   \n",
       "512  Factores de riesgo para los tumores óseos mali...   \n",
       "503  Factores de riesgo para los tumores óseos mali...   \n",
       "727  Hipersensibilidad química múltiple en el síndr...   \n",
       "639  Hipersensibilidad química múltiple en el síndr...   \n",
       "238  Xantogranuloma necrobiótico con paraproteinemi...   \n",
       "617  Xantogranuloma necrobiótico con paraproteinemi...   \n",
       "339  Linfadenitis canina producida por Cryptococcus...   \n",
       "138  Linfadenitis canina producida por Cryptococcus...   \n",
       "79   Síndrome de Cushing dependiente de ACTH, un pr...   \n",
       "785  Síndrome de Cushing dependiente de ACTH, un pr...   \n",
       "669  Tumor epitelioide perivascular uterino. Utilid...   \n",
       "367  Tumor epitelioide perivascular uterino. Utilid...   \n",
       "161  Endocarditis infecciosa sobre válvula aórtica ...   \n",
       "269  Endocarditis infecciosa sobre válvula aórtica ...   \n",
       "828  Luxación de codo con fractura ipsilateral del ...   \n",
       "18   Luxación de codo con fractura ipsilateral del ...   \n",
       "301  Sangrado digestivo por divertículos yeyunales:...   \n",
       "125  Sangrado digestivo por divertículos yeyunales:...   \n",
       "742  Incidencia de síndrome de Guillain-Barré duran...   \n",
       "9    Incidencia de síndrome de Guillain-Barré duran...   \n",
       "234  Xantogranuloma orbitario del adulto como causa...   \n",
       "615  Xantogranuloma orbitario del adulto como causa...   \n",
       "638  ¿Qué evidencia científica tienen los métodos p...   \n",
       "728  ¿Qué evidencia científica tienen los métodos p...   \n",
       "584  Hallazgos endoscópicos no relacionados con hip...   \n",
       "186  Hallazgos endoscópicos no relacionados con hip...   \n",
       "\n",
       "                                              ABSTRACT  \\\n",
       "614  Los xantogranulomas del ventrículo lateral son...   \n",
       "605  Los xantogranulomas del ventrículo lateral son...   \n",
       "233  Los xantogranulomas del ventrículo lateral son...   \n",
       "397  Hemos estudiado la incidencia de enfermedades ...   \n",
       "249  Hemos estudiado la incidencia de enfermedades ...   \n",
       "633  Fundamento y objetivo El síndrome de fatiga cr...   \n",
       "729  Fundamento y objetivo El síndrome de fatiga cr...   \n",
       "512  Introducción El cáncer es el resultado final d...   \n",
       "503  Introducción El cáncer es el resultado final d...   \n",
       "727  El síndrome del edificio enfermo se refiere a ...   \n",
       "639  El síndrome del edificio enfermo se refiere a ...   \n",
       "238  El xantogranuloma necrobiótico (Xn) con parapr...   \n",
       "617  El xantogranuloma necrobiótico (Xn) con parapr...   \n",
       "339  Presentamos el primer caso de linfadenomegalia...   \n",
       "138  Presentamos el primer caso de linfadenomegalia...   \n",
       "79   El síndrome de Cushing dependiente de ACTH sup...   \n",
       "785  El síndrome de Cushing dependiente de ACTH sup...   \n",
       "669  Los tumores epitelioides perivasculares son un...   \n",
       "367  Los tumores epitelioides perivasculares son un...   \n",
       "161  Introducción La válvula aórtica bicúspide (VAB...   \n",
       "269  Introducción La válvula aórtica bicúspide (VAB...   \n",
       "828  La luxación de codo asociada a fractura ipsila...   \n",
       "18   La luxación de codo asociada a fractura ipsila...   \n",
       "301  Antecedentes El sangrado de intestino delgado ...   \n",
       "125  Antecedentes El sangrado de intestino delgado ...   \n",
       "742  Introducción El síndrome de Guillain-Barré es ...   \n",
       "9    Introducción El síndrome de Guillain-Barré es ...   \n",
       "234  El xantogranuloma orbitario del adulto es un r...   \n",
       "615  El xantogranuloma orbitario del adulto es un r...   \n",
       "638  El síndrome de sensibilización central engloba...   \n",
       "728  El síndrome de sensibilización central engloba...   \n",
       "584  Objetivo El consenso de Baveno VI para el crib...   \n",
       "186  Objetivo El consenso de Baveno VI para el crib...   \n",
       "\n",
       "                                            MESH_TUPLE  \n",
       "614  (Granuloma, Humans, Lateral Ventricles, Cranio...  \n",
       "605  (Granuloma, Humans, Lateral Ventricles, Cranio...  \n",
       "233  (Granuloma, Humans, Lateral Ventricles, Cranio...  \n",
       "397  (Rhinitis, Allergic, Perennial, Antibody Speci...  \n",
       "249  (Rhinitis, Allergic, Perennial, Antibody Speci...  \n",
       "633  (Adult, Fatigue Syndrome, Chronic, Humans, Ado...  \n",
       "729  (Adult, Fatigue Syndrome, Chronic, Humans, Ado...  \n",
       "512  (Adult, Humans, Bone Neoplasms, Adolescent, Ri...  \n",
       "503  (Adult, Humans, Bone Neoplasms, Adolescent, Ri...  \n",
       "727  (Fatigue Syndrome, Chronic, Humans, Middle Age...  \n",
       "639  (Fatigue Syndrome, Chronic, Humans, Middle Age...  \n",
       "238  (Granuloma, Lichen Sclerosus et Atrophicus, Tr...  \n",
       "617  (Granuloma, Lichen Sclerosus et Atrophicus, Tr...  \n",
       "339  (Dogs, Antifungal Agents, Lymphadenitis, Dog D...  \n",
       "138  (Dogs, Antifungal Agents, Lymphadenitis, Dog D...  \n",
       "79   (False Negative Reactions, Adult, Bronchial Ne...  \n",
       "785  (False Negative Reactions, Adult, Bronchial Ne...  \n",
       "669  (Perivascular Epithelioid Cell Neoplasms, Tube...  \n",
       "367  (Perivascular Epithelioid Cell Neoplasms, Tube...  \n",
       "161  (Disease Susceptibility, Heart Failure, Endoca...  \n",
       "269  (Disease Susceptibility, Heart Failure, Endoca...  \n",
       "828  (Adult, Multiple Trauma, Vascular System Injur...  \n",
       "18   (Adult, Multiple Trauma, Vascular System Injur...  \n",
       "301  (Cerebral Infarction, Kidney Failure, Chronic,...  \n",
       "125  (Cerebral Infarction, Kidney Failure, Chronic,...  \n",
       "742  (Humans, Incidence, Middle Aged, Guillain-Barr...  \n",
       "9    (Humans, Incidence, Middle Aged, Guillain-Barr...  \n",
       "234  (Granuloma, Adult, Humans, Xanthomatosis, Blep...  \n",
       "615  (Granuloma, Adult, Humans, Xanthomatosis, Blep...  \n",
       "638  (Central Nervous System Sensitization, Disable...  \n",
       "728  (Central Nervous System Sensitization, Disable...  \n",
       "584  (Hypertension, Portal, Endoscopy, Gastrointest...  \n",
       "186  (Hypertension, Portal, Endoscopy, Gastrointest...  "
      ]
     },
     "execution_count": 45,
     "metadata": {},
     "output_type": "execute_result"
    }
   ],
   "source": [
    "corpus_df[corpus_df.duplicated(subset=['PMID'], keep=False)].sort_values(by='PMID')"
   ]
  },
  {
   "cell_type": "markdown",
   "metadata": {
    "id": "iwk59fNgusT1"
   },
   "source": [
    "In the subset consisting of 10 publications per Mesh term, there are still some publications that are duplicated with a different Mesh Major term. It will be kept."
   ]
  },
  {
   "cell_type": "markdown",
   "metadata": {
    "id": "xbwtWO4dvOuZ"
   },
   "source": [
    "# TITLE"
   ]
  },
  {
   "cell_type": "code",
   "execution_count": 46,
   "metadata": {
    "id": "kLRiQ5PQ82ZH"
   },
   "outputs": [
    {
     "data": {
      "text/plain": [
       "0      Infección por el virus Zika o el futuro de las...\n",
       "1      La enfermedad por virus Zika en España. Result...\n",
       "2      Neurorretinopatía autoinmune secundaria a infe...\n",
       "3      Manifestaciones oftálmicas de las infecciones ...\n",
       "4      Experiencia de mujeres con infección prenatal ...\n",
       "                             ...                        \n",
       "855    Sesión de hemodiálisis: la tormenta perfecta p...\n",
       "856    Relación entre hiperostosis esquelética idiopá...\n",
       "857    Prevalencia de calcificación arterial y factor...\n",
       "858    Importancia del índice tobillo-brazo en la rec...\n",
       "859    Relación entre cistatina C y calcificación cor...\n",
       "Name: TITLE, Length: 860, dtype: object"
      ]
     },
     "execution_count": 46,
     "metadata": {},
     "output_type": "execute_result"
    }
   ],
   "source": [
    "corpus_df['TITLE']"
   ]
  },
  {
   "cell_type": "code",
   "execution_count": 47,
   "metadata": {
    "id": "AT9F5i5tntX2"
   },
   "outputs": [
    {
     "data": {
      "text/plain": [
       "0       71\n",
       "1      121\n",
       "2       73\n",
       "3       68\n",
       "4      101\n",
       "      ... \n",
       "855     75\n",
       "856    164\n",
       "857    125\n",
       "858    137\n",
       "859    102\n",
       "Name: TITLE, Length: 860, dtype: int64"
      ]
     },
     "execution_count": 47,
     "metadata": {},
     "output_type": "execute_result"
    }
   ],
   "source": [
    "corpus_df['TITLE'].map(lambda x: len(x))"
   ]
  },
  {
   "cell_type": "code",
   "execution_count": 48,
   "metadata": {
    "id": "G84VHWjWG-Fa"
   },
   "outputs": [
    {
     "data": {
      "image/png": "[encoded data removed]",
      "text/plain": [
       "<Figure size 1000x600 with 1 Axes>"
      ]
     },
     "metadata": {},
     "output_type": "display_data"
    }
   ],
   "source": [
    "len_chr_title = corpus_df['TITLE'].map(lambda x: len(x))\n",
    "\n",
    "# Calculate quartiles\n",
    "q1 = np.percentile(len_chr_title, 25)\n",
    "q2 = np.percentile(len_chr_title, 50)\n",
    "q3 = np.percentile(len_chr_title, 75)\n",
    "\n",
    "# Define histogram properties\n",
    "fig = plt.figure(figsize=(10, 6))\n",
    "bin_width = 10\n",
    "list_bins= list(range(0, len_chr_title.max() + bin_width, bin_width))\n",
    "\n",
    "# Plot histogram\n",
    "plt.hist(len_chr_title, bins=list_bins, ec='w', color='orange')\n",
    "\n",
    "# Add quartile lines\n",
    "plt.axvline(q1, color='r', linestyle='--', label='Q1')\n",
    "plt.axvline(q2, color='g', linestyle='--', label='Q2 (Median)')\n",
    "plt.axvline(q3, color='b', linestyle='--', label='Q3')\n",
    "\n",
    "plt.xlabel('Length of Titles (Number of Characters)')\n",
    "plt.ylabel('Frequency')\n",
    "plt.title('Distribution of Title Lengths (Number of Characters)')\n",
    "\n",
    "# Add legend\n",
    "plt.legend()\n",
    "\n",
    "plt.xticks(np.arange(0, len_chr_title.max() + 1, 50))\n",
    "\n",
    "\n",
    "plt.show()"
   ]
  },
  {
   "cell_type": "code",
   "execution_count": 49,
   "metadata": {
    "id": "N7LnTj9Kfc-E"
   },
   "outputs": [
    {
     "data": {
      "text/html": [
       "<div>\n",
       "<style scoped>\n",
       "    .dataframe tbody tr th:only-of-type {\n",
       "        vertical-align: middle;\n",
       "    }\n",
       "\n",
       "    .dataframe tbody tr th {\n",
       "        vertical-align: top;\n",
       "    }\n",
       "\n",
       "    .dataframe thead th {\n",
       "        text-align: right;\n",
       "    }\n",
       "</style>\n",
       "<table border=\"1\" class=\"dataframe\">\n",
       "  <thead>\n",
       "    <tr style=\"text-align: right;\">\n",
       "      <th></th>\n",
       "      <th>index</th>\n",
       "      <th>PMID</th>\n",
       "      <th>MESH_MAJOR_TOPIC</th>\n",
       "      <th>TITLE</th>\n",
       "      <th>ABSTRACT</th>\n",
       "      <th>MESH_TUPLE</th>\n",
       "    </tr>\n",
       "  </thead>\n",
       "  <tbody>\n",
       "    <tr>\n",
       "      <th>10</th>\n",
       "      <td>415</td>\n",
       "      <td>28285907</td>\n",
       "      <td>Elbow Injuries</td>\n",
       "      <td>Luxación de codo</td>\n",
       "      <td>La luxación de codo es la luxación más frecuen...</td>\n",
       "      <td>(Humans, Elbow Injuries, Ambulatory Care, Join...</td>\n",
       "    </tr>\n",
       "    <tr>\n",
       "      <th>372</th>\n",
       "      <td>11145</td>\n",
       "      <td>21349470</td>\n",
       "      <td>Nervous System Diseases</td>\n",
       "      <td>Neurolaringología</td>\n",
       "      <td>La neuroanatomía de la voz y el habla es compl...</td>\n",
       "      <td>(Diagnostic Techniques, Neurological, Laryngea...</td>\n",
       "    </tr>\n",
       "    <tr>\n",
       "      <th>460</th>\n",
       "      <td>13131</td>\n",
       "      <td>16447594</td>\n",
       "      <td>Priapism</td>\n",
       "      <td>Priapismo</td>\n",
       "      <td>Priapismo El priapismo ha sido definido por la...</td>\n",
       "      <td>(Algorithms, Priapism, Male, Humans)</td>\n",
       "    </tr>\n",
       "    <tr>\n",
       "      <th>610</th>\n",
       "      <td>16984</td>\n",
       "      <td>21835391</td>\n",
       "      <td>Xanthomatosis</td>\n",
       "      <td>Xantoma basilingual</td>\n",
       "      <td>Los xantomas son tumores benignos dismetabólic...</td>\n",
       "      <td>(Adult, Humans, Tongue Diseases, Xanthomatosis...</td>\n",
       "    </tr>\n",
       "    <tr>\n",
       "      <th>651</th>\n",
       "      <td>18401</td>\n",
       "      <td>21458830</td>\n",
       "      <td>Hepatitis E</td>\n",
       "      <td>Hepatitis crónica E</td>\n",
       "      <td>El virus de la hepatitis E es un virus ARN del...</td>\n",
       "      <td>(Europe, Transfusion Reaction, Asia, Endemic D...</td>\n",
       "    </tr>\n",
       "  </tbody>\n",
       "</table>\n",
       "</div>"
      ],
      "text/plain": [
       "     index      PMID         MESH_MAJOR_TOPIC                TITLE  \\\n",
       "10     415  28285907           Elbow Injuries     Luxación de codo   \n",
       "372  11145  21349470  Nervous System Diseases    Neurolaringología   \n",
       "460  13131  16447594                 Priapism            Priapismo   \n",
       "610  16984  21835391            Xanthomatosis  Xantoma basilingual   \n",
       "651  18401  21458830              Hepatitis E  Hepatitis crónica E   \n",
       "\n",
       "                                              ABSTRACT  \\\n",
       "10   La luxación de codo es la luxación más frecuen...   \n",
       "372  La neuroanatomía de la voz y el habla es compl...   \n",
       "460  Priapismo El priapismo ha sido definido por la...   \n",
       "610  Los xantomas son tumores benignos dismetabólic...   \n",
       "651  El virus de la hepatitis E es un virus ARN del...   \n",
       "\n",
       "                                            MESH_TUPLE  \n",
       "10   (Humans, Elbow Injuries, Ambulatory Care, Join...  \n",
       "372  (Diagnostic Techniques, Neurological, Laryngea...  \n",
       "460               (Algorithms, Priapism, Male, Humans)  \n",
       "610  (Adult, Humans, Tongue Diseases, Xanthomatosis...  \n",
       "651  (Europe, Transfusion Reaction, Asia, Endemic D...  "
      ]
     },
     "execution_count": 49,
     "metadata": {},
     "output_type": "execute_result"
    }
   ],
   "source": [
    "corpus_df[corpus_df['TITLE'].map(lambda x: len(x)) < 20]"
   ]
  },
  {
   "cell_type": "markdown",
   "metadata": {
    "id": "fLfxSf-Bf20x"
   },
   "source": [
    "Some titles are discovered to be identical to the text of the Mesh Major topic."
   ]
  },
  {
   "cell_type": "markdown",
   "metadata": {
    "id": "eKAxlfg_gZiI"
   },
   "source": [
    "The tokenization of titles will be addressed in the upcoming cells"
   ]
  },
  {
   "cell_type": "code",
   "execution_count": 50,
   "metadata": {
    "id": "TCoKNPeRa4PL"
   },
   "outputs": [
    {
     "name": "stdout",
     "output_type": "stream",
     "text": [
      "index: 53\n",
      "A sample title:\n",
      "Evaluación de los pacientes candidatos a implante transcatéter de válvula aórtica mediante tomografía computarizada multidetector\n"
     ]
    }
   ],
   "source": [
    "random.seed(123)\n",
    "\n",
    "index_random = random.randint(0, corpus_df.shape[0])\n",
    "print('index:', index_random)\n",
    "\n",
    "title_A = corpus_df.loc[index_random, 'TITLE']\n",
    "print(f'A sample title:\\n{title_A}')"
   ]
  },
  {
   "cell_type": "code",
   "execution_count": 51,
   "metadata": {
    "id": "MvBcBVEva2U0"
   },
   "outputs": [
    {
     "name": "stderr",
     "output_type": "stream",
     "text": [
      "/home/juanluisgonzalez/.local/lib/python3.9/site-packages/huggingface_hub/file_download.py:1132: FutureWarning: `resume_download` is deprecated and will be removed in version 1.0.0. Downloads always resume when possible. If you want to force a new download, use `force_download=True`.\n",
      "  warnings.warn(\n"
     ]
    }
   ],
   "source": [
    "tokenizer = RobertaTokenizer.from_pretrained('PlanTL-GOB-ES/roberta-base-biomedical-clinical-es')"
   ]
  },
  {
   "cell_type": "code",
   "execution_count": 52,
   "metadata": {
    "id": "RTNthqGYeUHA"
   },
   "outputs": [
    {
     "name": "stdout",
     "output_type": "stream",
     "text": [
      "['ĠEvaluaciÃ³n', 'Ġde', 'Ġlos', 'Ġpacientes', 'Ġcandidatos', 'Ġa', 'Ġimplante', 'Ġtrans', 'catÃ©ter', 'Ġde', 'ĠvÃ¡lvula', 'ĠaÃ³rtica', 'Ġmediante', 'ĠtomografÃŃa', 'Ġcomputarizada', 'Ġmulti', 'detec', 'tor']\n"
     ]
    }
   ],
   "source": [
    "print(tokenizer.tokenize(title_A))"
   ]
  },
  {
   "cell_type": "code",
   "execution_count": 53,
   "metadata": {
    "id": "IP3ZI85leYRP"
   },
   "outputs": [
    {
     "name": "stdout",
     "output_type": "stream",
     "text": [
      "{'input_ids': [0, 7137, 262, 318, 582, 10751, 269, 7376, 922, 40192, 262, 9681, 8322, 1366, 11102, 14735, 2817, 39078, 395, 2], 'attention_mask': [1, 1, 1, 1, 1, 1, 1, 1, 1, 1, 1, 1, 1, 1, 1, 1, 1, 1, 1, 1]}\n"
     ]
    }
   ],
   "source": [
    "print(tokenizer.encode_plus(title_A))"
   ]
  },
  {
   "cell_type": "code",
   "execution_count": 54,
   "metadata": {
    "id": "8nnMoXtbeppO"
   },
   "outputs": [
    {
     "name": "stderr",
     "output_type": "stream",
     "text": [
      "2024-07-23 12:10:10.872784: I tensorflow/tsl/cuda/cudart_stub.cc:28] Could not find cuda drivers on your machine, GPU will not be used.\n",
      "2024-07-23 12:10:15.097570: I tensorflow/tsl/cuda/cudart_stub.cc:28] Could not find cuda drivers on your machine, GPU will not be used.\n",
      "2024-07-23 12:10:15.100305: I tensorflow/core/platform/cpu_feature_guard.cc:182] This TensorFlow binary is optimized to use available CPU instructions in performance-critical operations.\n",
      "To enable the following instructions: AVX2 FMA, in other operations, rebuild TensorFlow with the appropriate compiler flags.\n",
      "2024-07-23 12:10:22.161102: W tensorflow/compiler/tf2tensorrt/utils/py_utils.cc:38] TF-TRT Warning: Could not find TensorRT\n"
     ]
    },
    {
     "name": "stdout",
     "output_type": "stream",
     "text": [
      "Title decoded:\n",
      "<s> Evaluación de los pacientes candidatos a implante transcatéter de válvula aórtica mediante tomografía computarizada multidetector</s>\n",
      "Title original:\n",
      "Evaluación de los pacientes candidatos a implante transcatéter de válvula aórtica mediante tomografía computarizada multidetector\n"
     ]
    }
   ],
   "source": [
    "# Get the title encoded\n",
    "title_A_tk = tokenizer.encode_plus(title_A)['input_ids']\n",
    "\n",
    "# Decode the title\n",
    "title_A_decoded = tokenizer.decode(title_A_tk)\n",
    "print(f'Title decoded:\\n{title_A_decoded}')\n",
    "\n",
    "# Original title\n",
    "print(f'Title original:\\n{title_A}')"
   ]
  },
  {
   "cell_type": "markdown",
   "metadata": {
    "id": "pFSnJOkdgb0Y"
   },
   "source": [
    "The length of the titles tokenized will be covered."
   ]
  },
  {
   "cell_type": "code",
   "execution_count": 55,
   "metadata": {
    "id": "8RnvKCHfg3Cv"
   },
   "outputs": [
    {
     "data": {
      "image/png": "[encoded data removed]",
      "text/plain": [
       "<Figure size 1000x600 with 1 Axes>"
      ]
     },
     "metadata": {},
     "output_type": "display_data"
    }
   ],
   "source": [
    "len_tk_title = corpus_df['TITLE'].map(lambda x: len(tokenizer.tokenize(x)))\n",
    "\n",
    "# Calculate quartiles\n",
    "q1 = np.percentile(len_tk_title, 25)\n",
    "q2 = np.percentile(len_tk_title, 50)\n",
    "q3 = np.percentile(len_tk_title, 75)\n",
    "\n",
    "# Define histogram properties\n",
    "fig = plt.figure(figsize=(10, 6))\n",
    "bin_width = 3\n",
    "list_bins= list(range(0, len_tk_title.max() + bin_width, bin_width))\n",
    "\n",
    "# Plot histogram\n",
    "plt.hist(len_tk_title, bins=list_bins, ec='w', color='orange')\n",
    "\n",
    "# Add quartile lines\n",
    "plt.axvline(q1, color='r', linestyle='--', label='Q1')\n",
    "plt.axvline(q2, color='g', linestyle='--', label='Q2 (Median)')\n",
    "plt.axvline(q3, color='b', linestyle='--', label='Q3')\n",
    "\n",
    "plt.xlabel('Length of Titles (Number of tokens)')\n",
    "plt.ylabel('Frequency')\n",
    "plt.title('Distribution of Title Lengths (Number of tokens)')\n",
    "\n",
    "# Add legend\n",
    "plt.legend()\n",
    "\n",
    "plt.xticks(np.arange(0, len_tk_title.max() + 1, 10))\n",
    "\n",
    "plt.show()"
   ]
  },
  {
   "cell_type": "markdown",
   "metadata": {
    "id": "8c-acRByis_P"
   },
   "source": [
    "# ABSTRACT"
   ]
  },
  {
   "cell_type": "code",
   "execution_count": 56,
   "metadata": {
    "id": "oIj7iJ4firlS"
   },
   "outputs": [
    {
     "data": {
      "text/plain": [
       "0      El virus Zika es un Flavivirus filogenéticamen...\n",
       "1      Introducción y objetivo La enfermedad por viru...\n",
       "2      Caso clínico Mujer de 40 años, infectada 6 mes...\n",
       "3      Introducción y objetivos Las infecciones por a...\n",
       "4      Objetivo Comprender el proceso de toma de deci...\n",
       "                             ...                        \n",
       "855    Introducción La calcificación vascular (CV) as...\n",
       "856    Antecedentes y objetivo La hiperostosis esquel...\n",
       "857    Objetivos Estudiar la prevalencia de calcifica...\n",
       "858    Fundamento y objetivo El índice tobillo-brazo ...\n",
       "859    Fundamento y objetivo La enfermedad cardiovasc...\n",
       "Name: ABSTRACT, Length: 860, dtype: object"
      ]
     },
     "execution_count": 56,
     "metadata": {},
     "output_type": "execute_result"
    }
   ],
   "source": [
    "corpus_df['ABSTRACT']"
   ]
  },
  {
   "cell_type": "code",
   "execution_count": 57,
   "metadata": {},
   "outputs": [
    {
     "data": {
      "image/png": "[encoded data removed]",
      "text/plain": [
       "<Figure size 1000x600 with 1 Axes>"
      ]
     },
     "metadata": {},
     "output_type": "display_data"
    }
   ],
   "source": [
    "len_chr_abstract = corpus_df['ABSTRACT'].map(lambda x: len(x))\n",
    "\n",
    "# Calculate quartiles\n",
    "q1 = np.percentile(len_chr_abstract, 25)\n",
    "q2 = np.percentile(len_chr_abstract, 50)\n",
    "q3 = np.percentile(len_chr_abstract, 75)\n",
    "\n",
    "# Define histogram properties\n",
    "fig = plt.figure(figsize=(10, 6))\n",
    "bin_width = 80\n",
    "list_bins= list(range(0, len_chr_abstract.max() + bin_width, bin_width))\n",
    "\n",
    "# Plot histogram\n",
    "plt.hist(len_chr_abstract, bins=list_bins, ec='w', color='orange')\n",
    "\n",
    "# Add quartile lines\n",
    "plt.axvline(q1, color='r', linestyle='--', label='Q1')\n",
    "plt.axvline(q2, color='g', linestyle='--', label='Q2 (Median)')\n",
    "plt.axvline(q3, color='b', linestyle='--', label='Q3')\n",
    "\n",
    "plt.xlabel('Length of Abstracts (Number of Characters)')\n",
    "plt.ylabel('Frequency')\n",
    "plt.title('Distribution of Abstracts Lengths (Number of Characters)')\n",
    "\n",
    "# Add legend\n",
    "plt.legend()\n",
    "\n",
    "plt.xticks(np.arange(0, len_chr_abstract.max() + 1, 80), rotation=90)\n",
    "\n",
    "\n",
    "plt.show()"
   ]
  },
  {
   "cell_type": "code",
   "execution_count": 58,
   "metadata": {},
   "outputs": [
    {
     "data": {
      "image/png": "[encoded data removed]",
      "text/plain": [
       "<Figure size 1500x600 with 1 Axes>"
      ]
     },
     "metadata": {},
     "output_type": "display_data"
    }
   ],
   "source": [
    "len_tk_abstract = corpus_df['ABSTRACT'].map(lambda x: len(tokenizer.tokenize(x)))\n",
    "\n",
    "# Calculate quartiles\n",
    "q1 = np.percentile(len_tk_abstract, 25)\n",
    "q2 = np.percentile(len_tk_abstract, 50)\n",
    "q3 = np.percentile(len_tk_abstract, 75)\n",
    "\n",
    "# Define histogram properties\n",
    "fig = plt.figure(figsize=(15, 6))\n",
    "bin_width = 30\n",
    "list_bins= list(range(0, len_tk_abstract.max() + bin_width, bin_width))\n",
    "\n",
    "# Plot histogram\n",
    "plt.hist(len_tk_abstract, bins=list_bins, ec='w', color='orange')\n",
    "\n",
    "# Add quartile lines\n",
    "plt.axvline(q1, color='r', linestyle='--', label='Q1')\n",
    "plt.axvline(q2, color='g', linestyle='--', label='Q2 (Median)')\n",
    "plt.axvline(q3, color='b', linestyle='--', label='Q3')\n",
    "\n",
    "plt.xlabel('Length of Abstracts (Number of tokens)')\n",
    "plt.ylabel('Frequency')\n",
    "plt.title('Distribution of Title Abstracts (Number of tokens)')\n",
    "\n",
    "# Add legend\n",
    "plt.legend()\n",
    "\n",
    "plt.xticks(np.arange(0, len_tk_abstract.max() + 1, 30))\n",
    "\n",
    "plt.show()"
   ]
  }
 ],
 "metadata": {
  "colab": {
   "provenance": []
  },
  "kernelspec": {
   "display_name": "Python 3",
   "name": "python3"
  },
  "language_info": {
   "codemirror_mode": {
    "name": "ipython",
    "version": 3
   },
   "file_extension": ".py",
   "mimetype": "text/x-python",
   "name": "python",
   "nbconvert_exporter": "python",
   "pygments_lexer": "ipython3",
   "version": "3.9.16"
  }
 },
 "nbformat": 4,
 "nbformat_minor": 0
}
