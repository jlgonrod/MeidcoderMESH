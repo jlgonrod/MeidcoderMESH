{
 "cells": [
  {
   "cell_type": "markdown",
   "metadata": {},
   "source": [
    "<div style=\"display: flex; justify-content: flex-end; align-items: center;\">\n",
    "    <div style=\"width: 30%; text-align: right; margin-right: 20px;\">\n",
    "        <img src=\"https://www.juntadeandalucia.es/datosabiertos/portal/uploads/group/2022-09-06-135504.979247fps.png\" alt=\"Web Fundación Progreso y Salud\" style=\"width: 100%;\"/>\n",
    "    </div>\n",
    "    <div style=\"width: 60%; margin-right: 1em;\">\n",
    "        <p style=\"text-align: right; font-weight: bold; font-size: 2em; margin-top: 30px;\">\n",
    "            Extract MeSH Tags from XLM file\n",
    "        </p>\n",
    "        <p style=\"text-align: right; color: #666\">\n",
    "            Proyect: MedicoderMESH\n",
    "        </p>\n",
    "        <p style=\"text-align: right; color: #666\">\n",
    "            Juan Luis González Rodríguez\n",
    "        </p>\n",
    "    </div>\n",
    "</div>"
   ]
  },
  {
   "cell_type": "markdown",
   "metadata": {},
   "source": [
    "# 0.Libraries"
   ]
  },
  {
   "cell_type": "code",
   "execution_count": 1,
   "metadata": {},
   "outputs": [],
   "source": [
    "from xml.etree import ElementTree\n",
    "import os\n",
    "import json\n",
    "import shutil\n",
    "import sys\n",
    "from tqdm import tqdm"
   ]
  },
  {
   "cell_type": "markdown",
   "metadata": {},
   "source": [
    "# 1.Functions"
   ]
  },
  {
   "cell_type": "code",
   "execution_count": 2,
   "metadata": {},
   "outputs": [],
   "source": [
    "def extractdate_xml(xml_date_elelemt):\n",
    "    \"\"\"\n",
    "    Extract date from xml element\n",
    "    \n",
    "    Args:\n",
    "    xml_date_elelemt (ElementTree.Element): xml element containing date\n",
    "    \n",
    "    Returns:\n",
    "    str: date in dd/mm/yyyy format\"\"\"\n",
    "\n",
    "    year = xml_date_elelemt.find('Year').text\n",
    "    motnh = xml_date_elelemt.find('Month').text\n",
    "    day = xml_date_elelemt.find('Day').text\n",
    "\n",
    "    return f\"{day}/{motnh}/{year}\" #dd/mm/yyyy format"
   ]
  },
  {
   "cell_type": "code",
   "execution_count": 3,
   "metadata": {},
   "outputs": [],
   "source": [
    "def parse_mesh_xml(mesh_element_xml):\n",
    "    \"\"\"\n",
    "    Parse xml element containing mesh data.\n",
    "\n",
    "    Args:\n",
    "    mesh_element_xml (ElementTree.Element): xml element containing mesh data\n",
    "\n",
    "    Returns:\n",
    "    dict: dictionary containing mesh data\n",
    "    \"\"\"\n",
    "    mesh_data = {}\n",
    "    for element in mesh_element_xml:\n",
    "        if element.tag == \"DescriptorUI\":\n",
    "            try:\n",
    "                mesh_data[\"DescriptorUI\"] = element.text\n",
    "            except AttributeError:\n",
    "                mesh_data[\"DescriptorUI\"] = \"\"\n",
    "        \n",
    "        if element.tag == \"DescriptorName\":\n",
    "            try:\n",
    "                mesh_data[\"DescriptorName\"] = element.find(\"String\").text\n",
    "            except AttributeError:\n",
    "                mesh_data[\"DescriptorName\"] = \"\"\n",
    "                \n",
    "        if element.tag == \"TreeNumberList\":\n",
    "            try:\n",
    "                mesh_data[\"TreeNumberList\"] = [tree_number.text for tree_number in element]\n",
    "            except AttributeError:\n",
    "                mesh_data[\"TreeNumberList\"] = []\n",
    "                \n",
    "        if element.tag == \"DateCreated\":\n",
    "            try:\n",
    "                mesh_data[\"Creation_date\"] = extractdate_xml(element)\n",
    "            except AttributeError:\n",
    "                mesh_data[\"Creation_date\"] = \"\"\n",
    "                \n",
    "        if element.tag == \"DateRevised\":\n",
    "            try:\n",
    "                mesh_data[\"Revision_date\"] = extractdate_xml(element)\n",
    "            except AttributeError:\n",
    "                mesh_data[\"Revision_date\"] = \"\"\n",
    "                \n",
    "        if element.tag == \"DateEstablished\":\n",
    "            try:\n",
    "                mesh_data[\"Established_date\"] = extractdate_xml(element)\n",
    "            except AttributeError:\n",
    "                mesh_data[\"Established_date\"] = \"\"\n",
    "                \n",
    "        if element.tag == \"Annotation\":\n",
    "            try:\n",
    "                mesh_data[\"Annotation\"] = element.text.strip()\n",
    "            except AttributeError:\n",
    "                mesh_data[\"Annotation\"] = \"\"\n",
    "                \n",
    "        if element.tag == \"ConceptList\":\n",
    "            try:\n",
    "                mesh_data[\"ScopeNote\"] = element.find(\"Concept\").find(\"ScopeNote\").text.strip()\n",
    "                mesh_data[\"Terms\"] = [term.find(\"String\").text for term in element.find(\"Concept\").find(\"TermList\")]\n",
    "            except AttributeError:\n",
    "                mesh_data[\"ScopeNote\"] = \"\"\n",
    "                mesh_data[\"Terms\"] = []\n",
    "                \n",
    "        if element.tag == \"AllowableQualifiersList\":\n",
    "            try:\n",
    "                mesh_data[\"AllowableQualifiers\"] = [qualifier.find(\"QualifierReferredTo\").find(\"QualifierName\").find(\"String\").text \\\n",
    "                                for qualifier in element.findall(\"AllowableQualifier\")]\n",
    "            except AttributeError:\n",
    "                mesh_data[\"AllowableQualifiers\"] = []\n",
    "\n",
    "    return mesh_data\n"
   ]
  },
  {
   "cell_type": "code",
   "execution_count": 4,
   "metadata": {},
   "outputs": [],
   "source": [
    "def check_save_path(save_path):\n",
    "    \"\"\"\n",
    "    Check if the output directory already exists and prompt the user to either delete it or stop the execution.\n",
    "\n",
    "    Args:\n",
    "    save_path (str): path to the output directory\n",
    "\n",
    "    Returns:\n",
    "    None\n",
    "    \"\"\"\n",
    "    # Check if the output directory already exists\n",
    "    if os.path.exists(save_path):\n",
    "        # Prompt the user to either delete the existing directory or stop the execution\n",
    "        response = input(f\"The directory {save_path} already exists. Do you want to delete it and continue with the execution? (yes/no): \")\n",
    "        if response.lower() == 'yes':\n",
    "            shutil.rmtree(save_path)\n",
    "        else:\n",
    "            sys.exit(\"Execution stopped by the user.\")\n",
    "\n",
    "    # Create the output directory if it doesn't exist\n",
    "    if not os.path.exists(save_path):\n",
    "        os.makedirs(save_path)\n",
    "\n",
    "    return None\n"
   ]
  },
  {
   "cell_type": "code",
   "execution_count": 5,
   "metadata": {},
   "outputs": [],
   "source": [
    "def ensure_keys(mesh_data):\n",
    "    \"\"\"\n",
    "    Ensure that all required keys are present in the mesh data dictionary.\n",
    "\n",
    "    Args:\n",
    "    mesh_data (dict): Mesh data dictionary\n",
    "\n",
    "    Returns:\n",
    "    dict: Updated mesh data dictionary with all required keys\n",
    "    \"\"\"\n",
    "    required_keys = {\n",
    "        \"DescriptorUI\": \"\",\n",
    "        \"DescriptorName\": \"\",\n",
    "        \"TreeNumberList\": [],\n",
    "        \"Creation_date\": \"\",\n",
    "        \"Revision_date\": \"\",\n",
    "        \"Established_date\": \"\",\n",
    "        \"Annotation\": \"\",\n",
    "        \"ScopeNote\": \"\",\n",
    "        \"Terms\": [],\n",
    "        \"AllowableQualifiers\": []\n",
    "    }\n",
    "    for key, default_value in required_keys.items():\n",
    "        if key not in mesh_data:\n",
    "            mesh_data[key] = default_value\n",
    "\n",
    "    return mesh_data\n"
   ]
  },
  {
   "cell_type": "markdown",
   "metadata": {},
   "source": [
    "# 2.Load Data"
   ]
  },
  {
   "cell_type": "markdown",
   "metadata": {},
   "source": [
    "Let's load the xml file and parse it using ElementTree."
   ]
  },
  {
   "cell_type": "code",
   "execution_count": 6,
   "metadata": {},
   "outputs": [],
   "source": [
    "xml_path = os.path.join(\"..\", \"data\",\"desc2024.xml\")\n",
    "\n",
    "# Parse the XML file\n",
    "tree = ElementTree.parse(xml_path)"
   ]
  },
  {
   "cell_type": "markdown",
   "metadata": {},
   "source": [
    "The structure of MeSH is described in the <a href=\"https://www.nlm.nih.gov/mesh/xmlmesh.html\">Mesh XML Structure</a>, which can be helpful for understanding the file structure."
   ]
  },
  {
   "cell_type": "code",
   "execution_count": 7,
   "metadata": {},
   "outputs": [
    {
     "name": "stdout",
     "output_type": "stream",
     "text": [
      "There are 30764 MeSH terms in the file.\n"
     ]
    }
   ],
   "source": [
    "meshs = tree.getroot()\n",
    "\n",
    "print(f\"There are {len(meshs)} MeSH terms in the file.\")"
   ]
  },
  {
   "cell_type": "markdown",
   "metadata": {},
   "source": [
    "# 3.Parse the mesh and save it as a json file"
   ]
  },
  {
   "cell_type": "code",
   "execution_count": 8,
   "metadata": {},
   "outputs": [
    {
     "name": "stderr",
     "output_type": "stream",
     "text": [
      "Processing MeSH terms: 100%|██████████| 30764/30764 [00:02<00:00, 12439.59MeSH term/s]\n"
     ]
    }
   ],
   "source": [
    "save_path = os.path.join(\"..\", \"data\", \"meshs_json\")\n",
    "prefixes_to_check = [\"C\", \"F03\"]\n",
    "\n",
    "# Check savepath content and existence\n",
    "check_save_path(save_path)\n",
    "\n",
    "for mesh in tqdm(meshs, desc=\"Processing MeSH terms\", total=len(meshs), unit=\"MeSH term\"):\n",
    "    mesh_data = parse_mesh_xml(mesh)\n",
    "    mes_data = ensure_keys(mesh_data)\n",
    "    # check if any threenumber starts with the prefixes\n",
    "    if any([tree_number.startswith(prefix) for prefix in prefixes_to_check for tree_number in mesh_data[\"TreeNumberList\"]]):\n",
    "        with open(os.path.join(save_path, f\"{mesh_data['DescriptorUI']}.json\"), \"w\") as file:\n",
    "            json.dump(mesh_data, file, indent=4)"
   ]
  },
  {
   "cell_type": "code",
   "execution_count": 9,
   "metadata": {},
   "outputs": [
    {
     "name": "stdout",
     "output_type": "stream",
     "text": [
      "There are 5155 MeSH terms with TreeNumber starting with C, F03\n",
      "The data has been saved in {save_path}.\n"
     ]
    }
   ],
   "source": [
    "print(f\"There are {len(os.listdir(save_path))} MeSH terms with TreeNumber starting with {', '.join(prefixes_to_check)}\" +\n",
    "      f\"\\nThe data has been saved in {save_path}.\")"
   ]
  }
 ],
 "metadata": {
  "kernelspec": {
   "display_name": "venv",
   "language": "python",
   "name": "python3"
  },
  "language_info": {
   "codemirror_mode": {
    "name": "ipython",
    "version": 3
   },
   "file_extension": ".py",
   "mimetype": "text/x-python",
   "name": "python",
   "nbconvert_exporter": "python",
   "pygments_lexer": "ipython3",
   "version": "3.9.16"
  },
  "orig_nbformat": 4
 },
 "nbformat": 4,
 "nbformat_minor": 2
}
