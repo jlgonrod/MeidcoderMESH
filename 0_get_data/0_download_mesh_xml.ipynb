{
 "cells": [
  {
   "cell_type": "markdown",
   "metadata": {},
   "source": [
    "<div style=\"display: flex; justify-content: flex-end; align-items: center;\">\n",
    "    <div style=\"width: 30%; text-align: right; margin-right: 20px;\">\n",
    "        <img src=\"https://www.juntadeandalucia.es/datosabiertos/portal/uploads/group/2022-09-06-135504.979247fps.png\" alt=\"Web Fundación Progreso y Salud\" style=\"width: 100%;\"/>\n",
    "    </div>\n",
    "    <div style=\"width: 60%; margin-right: 1em;\">\n",
    "        <p style=\"text-align: right; font-weight: bold; font-size: 2em; margin-top: 30px;\">\n",
    "            Download XLM with 2024 Mesh Data\n",
    "        </p>\n",
    "        <p style=\"text-align: right; color: #666\">\n",
    "            Proyect: MedicoderICD\n",
    "        </p>\n",
    "        <p style=\"text-align: right; color: #666\">\n",
    "            Juan Luis González Rodríguez\n",
    "        </p>\n",
    "    </div>\n",
    "</div>"
   ]
  },
  {
   "cell_type": "markdown",
   "metadata": {},
   "source": [
    "# 0.Libraries"
   ]
  },
  {
   "cell_type": "code",
   "execution_count": 1,
   "metadata": {},
   "outputs": [],
   "source": [
    "import urllib.request\n",
    "import os"
   ]
  },
  {
   "cell_type": "markdown",
   "metadata": {},
   "source": [
    "# 1.Dowload XLM Data\n",
    "\n",
    "MeSH (Medical Subject Headings) is the NLM controlled vocabulary thesaurus used for indexing articles in PubMed. <a href=\"https://www.nlm.nih.gov/mesh/meshhome.html\">The National Library of Medicine</a> provides records with information about MeSH. The XML file containing all MeSH terms for 2024 will be downloaded."
   ]
  },
  {
   "cell_type": "code",
   "execution_count": 2,
   "metadata": {},
   "outputs": [
    {
     "name": "stdout",
     "output_type": "stream",
     "text": [
      "File downloaded successfully as ../data/desc2024.xml\n"
     ]
    }
   ],
   "source": [
    "# Download the file if it doesn't exist\n",
    "url = \"https://nlmpubs.nlm.nih.gov/projects/mesh/MESH_FILES/xmlmesh/desc2024.xml\"\n",
    "filename = url.split(\"/\")[-1]\n",
    "destination_file = os.path.join(\"..\", \"data\", filename)\n",
    "\n",
    "if os.path.exists(destination_file):\n",
    "    print(f\"The file {destination_file} already exists.\")\n",
    "else:\n",
    "    try:\n",
    "        urllib.request.urlretrieve(url, destination_file)\n",
    "        print(f\"File downloaded successfully as {destination_file}\")\n",
    "    except Exception as e:\n",
    "        print(f\"An error occurred: {e}\")"
   ]
  }
 ],
 "metadata": {
  "kernelspec": {
   "display_name": "venv",
   "language": "python",
   "name": "python3"
  },
  "language_info": {
   "codemirror_mode": {
    "name": "ipython",
    "version": 3
   },
   "file_extension": ".py",
   "mimetype": "text/x-python",
   "name": "python",
   "nbconvert_exporter": "python",
   "pygments_lexer": "ipython3",
   "version": "3.9.16"
  },
  "orig_nbformat": 4
 },
 "nbformat": 4,
 "nbformat_minor": 2
}
